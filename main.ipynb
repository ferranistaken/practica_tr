{
 "cells": [
  {
   "cell_type": "code",
   "execution_count": null,
   "id": "7652d352",
   "metadata": {},
   "outputs": [],
   "source": [
    "%pip install labelme tensorflow opencv-python matplotlib albumentations "
   ]
  },
  {
   "cell_type": "markdown",
   "id": "33e0455a",
   "metadata": {},
   "source": [
    "# 1. Obtenció i tractament de dades"
   ]
  },
  {
   "cell_type": "markdown",
   "id": "9578d20b",
   "metadata": {},
   "source": [
    "### 1.1 Ús de la llibreria LabelMe"
   ]
  },
  {
   "cell_type": "code",
   "execution_count": null,
   "id": "aaed57d5",
   "metadata": {},
   "outputs": [],
   "source": [
    "!labelme "
   ]
  },
  {
   "cell_type": "markdown",
   "id": "23d6376c",
   "metadata": {},
   "source": [
    "###  1.2 Creació de la base de dades"
   ]
  },
  {
   "cell_type": "code",
   "execution_count": 1,
   "id": "b42b8df7",
   "metadata": {},
   "outputs": [],
   "source": [
    "#importació de llibreries necessàries\n",
    "import tensorflow as tf\n",
    "import json\n",
    "import numpy as np\n",
    "from matplotlib import pyplot as plt\n",
    "import os\n",
    "import random\n",
    "import shutil\n",
    "import math"
   ]
  },
  {
   "cell_type": "code",
   "execution_count": null,
   "id": "8b7ac200",
   "metadata": {},
   "outputs": [],
   "source": [
    "#limitació de la memòria GPU \n",
    "gpus = tf.config.experimental.list_physical_devices('GPU')\n",
    "for gpu in gpus: \n",
    "    tf.config.experimental.set_memory_growth(gpu, True)"
   ]
  },
  {
   "cell_type": "code",
   "execution_count": null,
   "id": "ce224428",
   "metadata": {},
   "outputs": [],
   "source": [
    "imatges = tf.data.Dataset.list_files('imatges\\\\*.jpg') # introduïm les imatges"
   ]
  },
  {
   "cell_type": "code",
   "execution_count": 2,
   "id": "6f3a5584",
   "metadata": {},
   "outputs": [],
   "source": [
    "def carregar_imatge(imatge): #funció per a carregar imatges\n",
    "    byte_img = tf.io.read_file(imatge)\n",
    "    img = tf.image.decode_jpeg(byte_img)\n",
    "    return img"
   ]
  },
  {
   "cell_type": "code",
   "execution_count": null,
   "id": "9c7a78f4",
   "metadata": {},
   "outputs": [],
   "source": [
    "imatges = imatges.map(carregar_imatge) #executem la funció "
   ]
  },
  {
   "cell_type": "code",
   "execution_count": null,
   "id": "0dad48be",
   "metadata": {},
   "outputs": [],
   "source": [
    "imatges.as_numpy_iterator().next() "
   ]
  },
  {
   "cell_type": "code",
   "execution_count": null,
   "id": "fa93ae8b",
   "metadata": {},
   "outputs": [],
   "source": [
    "def imatgesDividir(dir_carpeta, n_imatges):\n",
    "    num_elements = len(os.listdir(os.path.join(dir_carpeta, \"imatges\")))\n",
    "    n_train = round(num_elements*0.7) # 70% de les imatges per entrenar\n",
    "    n_test = round(num_elements*0.15) # 15% de les imatges per provar\n",
    "    n_val = num_elements - (n_train + n_test) # 15% de les imatges per validar\n",
    "\n",
    "    llista = []\n",
    "    for i in range(1, (n_imatges + 1)):\n",
    "        llista.append(i)\n",
    "\n",
    "    while len(llista) > n_train:\n",
    "        if (len(os.listdir(os.path.join(dir_carpeta,\"dades\",\"test\")))-1)< n_test:\n",
    "            for i in range(n_test):\n",
    "                n = random.choice(llista)\n",
    "                nom = str(str(n) + \".jpg\")\n",
    "                shutil.move(os.path.join(dir_carpeta, \"imatges\", nom ), os.path.join(dir_carpeta, \"dades\", \"test\" , \"imatges\"))\n",
    "                llista.remove(n)\n",
    "\n",
    "        if (len(os.listdir(os.path.join(dir_carpeta,\"dades\",\"val\")))-1) < n_val:\n",
    "            for i in range(n_val):\n",
    "                n = random.choice(llista)\n",
    "                nom = str(str(n) + \".jpg\")\n",
    "                shutil.move(os.path.join(dir_carpeta, \"imatges\", nom), os.path.join(dir_carpeta,\"dades\" , \"val\", \"imatges\"))\n",
    "                llista.remove(n)\n",
    "\n",
    "    for i in llista:\n",
    "        nom = str(i) + \".jpg\"\n",
    "        shutil.move(os.path.join(dir_carpeta, \"imatges\", nom), os.path.join(dir_carpeta, \"dades\",\"train\", \"imatges\"))"
   ]
  },
  {
   "cell_type": "code",
   "execution_count": null,
   "id": "8643289a",
   "metadata": {},
   "outputs": [],
   "source": [
    "# Crear la carpeta principal\n",
    "os.mkdir(\"dades\")\n",
    "\n",
    "# Crear les subcarpetes dins de la carpeta principal\n",
    "for subcarpeta in [\"train\", \"test\", \"val\"]:\n",
    "    path_subcarpeta = os.path.join(\"dades\", subcarpeta)\n",
    "    os.mkdir(path_subcarpeta)\n",
    "    path_subsubcarpeta = os.path.join(\"dades\", subcarpeta, \"imatges\")\n",
    "    os.mkdir(path_subsubcarpeta)\n",
    "    path_subsubcarpeta2 = os.path.join(\"dades\", subcarpeta, \"labels\")\n",
    "    os.mkdir(path_subsubcarpeta2)\n",
    "\n",
    "imatgesDividir('\\practica_tr',300) #divisió de les carpetes i de les imatges"
   ]
  },
  {
   "cell_type": "markdown",
   "id": "b439be43",
   "metadata": {},
   "source": [
    "### Partició de les dades"
   ]
  },
  {
   "cell_type": "code",
   "execution_count": null,
   "id": "f7dce6b1",
   "metadata": {},
   "outputs": [],
   "source": [
    "# mou les els labels a les seves respectives carpetes\n",
    "def moureLabels(dir_carpeta):\n",
    "    for carpeta in ['train','test','val']:\n",
    "        for arxiu in os.listdir(os.path.join(dir_carpeta,'dades', carpeta, 'imatges')): #per cada arxiu en cada carpeta\n",
    "            n = arxiu.split(\".\")\n",
    "            json = str(n[0] + \".json\")\n",
    "            shutil.move(os.path.join(dir_carpeta, \"labels\", json ), os.path.join(dir_carpeta, \"dades\", carpeta, \"labels\"))#canviem"
   ]
  },
  {
   "cell_type": "code",
   "execution_count": null,
   "id": "2277dd51",
   "metadata": {},
   "outputs": [],
   "source": [
    "moureLabels('\\practica_tr')"
   ]
  },
  {
   "cell_type": "markdown",
   "id": "5f70389c",
   "metadata": {},
   "source": [
    "### 1.2.1 Ús de la llibreria Albumentation"
   ]
  },
  {
   "cell_type": "code",
   "execution_count": 3,
   "id": "071c1384",
   "metadata": {},
   "outputs": [],
   "source": [
    "import albumentations as alb\n",
    "import cv2"
   ]
  },
  {
   "cell_type": "code",
   "execution_count": 4,
   "id": "93969970",
   "metadata": {},
   "outputs": [],
   "source": [
    "augmentor = alb.Compose([alb.RandomCrop(width=1024, height=1024),\n",
    "                         alb.HorizontalFlip(p=0.5), \n",
    "                         alb.RandomBrightnessContrast(p=0.5),\n",
    "                         alb.RandomGamma(p=0.7), \n",
    "                         alb.RGBShift(p=0.5), \n",
    "                         alb.VerticalFlip(p=0.7)], \n",
    "                       bbox_params=alb.BboxParams(format='albumentations', \n",
    "                                                  label_fields=['class_labels']))"
   ]
  },
  {
   "cell_type": "code",
   "execution_count": 5,
   "id": "7e41c01a",
   "metadata": {},
   "outputs": [],
   "source": [
    "os.mkdir(\"aug_dades\")\n",
    "\n",
    "# Crear les subcarpetes dins de la carpeta principal\n",
    "for subcarpeta in [\"train\", \"test\", \"val\"]:\n",
    "    path_subcarpeta = os.path.join(\"aug_dades\", subcarpeta)\n",
    "    os.mkdir(path_subcarpeta)\n",
    "    path_subsubcarpeta = os.path.join(\"aug_dades\", subcarpeta, \"imatges\")\n",
    "    os.mkdir(path_subsubcarpeta)\n",
    "    path_subsubcarpeta2 = os.path.join(\"aug_dades\", subcarpeta, \"labels\")\n",
    "    os.mkdir(path_subsubcarpeta2)\n"
   ]
  },
  {
   "cell_type": "code",
   "execution_count": 6,
   "id": "6a36e346",
   "metadata": {},
   "outputs": [
    {
     "name": "stdout",
     "output_type": "stream",
     "text": [
      "Requested crop size (1024, 1024) is larger than the image size (512, 512)\n",
      "Requested crop size (1024, 1024) is larger than the image size (512, 512)\n",
      "Requested crop size (1024, 1024) is larger than the image size (512, 512)\n",
      "Requested crop size (1024, 1024) is larger than the image size (512, 512)\n"
     ]
    }
   ],
   "source": [
    "classes_fruita = {\"poma\": [1,0,0], \"pera\": [0,1,0] , \"mandarina\": [0,0,1]}\n",
    "partitions = ['train', 'test', 'val']\n",
    "\n",
    "for partition in partitions:\n",
    "    input_folder = os.path.join('dades', partition, 'imatges')\n",
    "    output_folder = os.path.join('aug_dades', partition, 'imatges')\n",
    "\n",
    "    for imatge in os.listdir(input_folder):\n",
    "        img_path = os.path.join(input_folder, imatge)\n",
    "        img = cv2.imread(img_path)\n",
    "        label_path = os.path.join('dades', partition, 'labels', f'{imatge.split(\".\")[0]}.json')\n",
    "\n",
    "        if os.path.exists(label_path):\n",
    "            with open(label_path, 'r') as f:\n",
    "                label = json.load(f)\n",
    "\n",
    "            for shape in label['shapes']:\n",
    "                class_name = shape['label'] \n",
    "                class_id = classes_fruita[class_name]\n",
    "                coords = shape['points']\n",
    "                coords = [(coords[0][0]/1024), (coords[0][1]/1024), (coords[1][0]/1024), (coords[1][1]/1024)]\n",
    "\n",
    "                try:\n",
    "                    for x in range(5):\n",
    "                        augmented = augmentor(image=img, bboxes=[coords], class_labels=[class_name])\n",
    "                        augmented_img = augmented['image']\n",
    "\n",
    "                        annotation = {\n",
    "                            'image': f'{imatge.split(\".\")[0]}.{x}.jpg',\n",
    "                            'bbox': augmented['bboxes'],\n",
    "                            'class': class_id,\n",
    "                        }\n",
    "                        output_img_path = os.path.join(output_folder, annotation['image'])\n",
    "                        cv2.imwrite(output_img_path, augmented_img)\n",
    "\n",
    "                        output_json_path = os.path.join('aug_dades', partition, 'labels', f'{imatge.split(\".\")[0]}.{x}.json')\n",
    "                        with open(output_json_path, 'w') as f:\n",
    "                            json.dump(annotation, f) \n",
    "                except Exception as e:\n",
    "                    print(e)\n"
   ]
  },
  {
   "cell_type": "markdown",
   "id": "9cf0c55a",
   "metadata": {},
   "source": [
    "### Incloure imatges creades amb Albumentations a la Dataset"
   ]
  },
  {
   "cell_type": "code",
   "execution_count": 7,
   "id": "7f16bf99",
   "metadata": {},
   "outputs": [],
   "source": [
    "train_imatges = tf.data.Dataset.list_files('aug_dades\\\\train\\\\imatges\\\\*.jpg',shuffle=False)\n",
    "train_imatges = train_imatges.map(carregar_imatge)\n",
    "train_imatges = train_imatges.map(lambda x: tf.image.resize(x, (120,120)))\n",
    "train_imatges = train_imatges.map(lambda x: x/255)"
   ]
  },
  {
   "cell_type": "code",
   "execution_count": 8,
   "id": "05456564",
   "metadata": {},
   "outputs": [],
   "source": [
    "test_imatges = tf.data.Dataset.list_files('aug_dades\\\\test\\\\imatges\\\\*.jpg', shuffle=False)\n",
    "test_imatges = test_imatges.map(carregar_imatge)\n",
    "test_imatges = test_imatges.map(lambda x: tf.image.resize(x, (120,120)))\n",
    "test_imatges = test_imatges.map(lambda x: x/255)"
   ]
  },
  {
   "cell_type": "code",
   "execution_count": 9,
   "id": "167107c7",
   "metadata": {},
   "outputs": [],
   "source": [
    "val_imatges = tf.data.Dataset.list_files('aug_dades\\\\val\\\\imatges\\\\*.jpg', shuffle=False)\n",
    "val_imatges = val_imatges.map(carregar_imatge)\n",
    "val_imatges = val_imatges.map(lambda x: tf.image.resize(x, (120,120)))\n",
    "val_imatges = val_imatges.map(lambda x: x/255)"
   ]
  },
  {
   "cell_type": "code",
   "execution_count": null,
   "id": "59755dc7",
   "metadata": {},
   "outputs": [],
   "source": [
    "train_imatges.as_numpy_iterator().next()"
   ]
  },
  {
   "cell_type": "markdown",
   "id": "0900d8c7",
   "metadata": {},
   "source": [
    "### 2.5 Carregar labels"
   ]
  },
  {
   "cell_type": "code",
   "execution_count": 10,
   "id": "8f31855c",
   "metadata": {},
   "outputs": [],
   "source": [
    "def carregar_labels(label_path):\n",
    "    with open(label_path.numpy(), 'r', encoding = \"utf-8\") as f:\n",
    "        label = json.load(f)\n",
    "        \n",
    "    return [label['class']], label['bbox']"
   ]
  },
  {
   "cell_type": "code",
   "execution_count": 11,
   "id": "f279ef40",
   "metadata": {},
   "outputs": [],
   "source": [
    "train_labels = tf.data.Dataset.list_files('aug_dades\\\\train\\\\labels\\\\*.json', shuffle=False)\n",
    "train_labels = train_labels.map(lambda x: tf.py_function(carregar_labels, [x], [tf.uint8, tf.float16]))"
   ]
  },
  {
   "cell_type": "code",
   "execution_count": 12,
   "id": "2fbc102b",
   "metadata": {},
   "outputs": [],
   "source": [
    "test_labels = tf.data.Dataset.list_files('aug_dades\\\\test\\\\labels\\\\*.json', shuffle=False)\n",
    "test_labels = test_labels.map(lambda x: tf.py_function(carregar_labels, [x], [tf.uint8, tf.float16]))"
   ]
  },
  {
   "cell_type": "code",
   "execution_count": 13,
   "id": "a532244b",
   "metadata": {},
   "outputs": [],
   "source": [
    "val_labels = tf.data.Dataset.list_files('aug_dades\\\\val\\\\labels\\\\*.json', shuffle=False)\n",
    "val_labels = val_labels.map(lambda x: tf.py_function(carregar_labels, [x], [tf.uint8, tf.float16]))"
   ]
  },
  {
   "cell_type": "code",
   "execution_count": null,
   "id": "f65cbee7",
   "metadata": {},
   "outputs": [],
   "source": [
    "train_labels.as_numpy_iterator().next()"
   ]
  },
  {
   "cell_type": "markdown",
   "id": "94c9566b",
   "metadata": {},
   "source": [
    "### Combinar etiquetes i imatges"
   ]
  },
  {
   "cell_type": "code",
   "execution_count": 14,
   "id": "00975b19",
   "metadata": {},
   "outputs": [],
   "source": [
    "num_elements={}\n",
    "for carpeta in ['train','test','val']:\n",
    "    x = len(os.listdir(os.path.join('aug_dades', carpeta, 'imatges')))\n",
    "    num_elements.update({carpeta : round(x * 1.5)})"
   ]
  },
  {
   "cell_type": "code",
   "execution_count": 15,
   "id": "2ea1c80f",
   "metadata": {},
   "outputs": [],
   "source": [
    "train = tf.data.Dataset.zip((train_imatges, train_labels))\n",
    "train = train.shuffle(num_elements['train'])\n",
    "train = train.batch(5)\n",
    "train = train.prefetch(4)"
   ]
  },
  {
   "cell_type": "code",
   "execution_count": 16,
   "id": "c0ba0be7",
   "metadata": {},
   "outputs": [],
   "source": [
    "test = tf.data.Dataset.zip((test_imatges, test_labels))\n",
    "test = test.shuffle(num_elements['test'])\n",
    "test = test.batch(5)\n",
    "test = test.prefetch(4)"
   ]
  },
  {
   "cell_type": "code",
   "execution_count": 17,
   "id": "910bd91f",
   "metadata": {},
   "outputs": [],
   "source": [
    "val = tf.data.Dataset.zip((val_imatges, val_labels))\n",
    "val = val.shuffle(num_elements['val'])\n",
    "val = val.batch(5)\n",
    "val = val.prefetch(4)"
   ]
  },
  {
   "cell_type": "code",
   "execution_count": 18,
   "id": "938f7528",
   "metadata": {},
   "outputs": [
    {
     "data": {
      "text/plain": [
       "(array([[[[5.14139473e-01, 4.92440075e-01, 4.46296304e-01],\n",
       "          [4.61686283e-01, 4.40901965e-01, 3.77241850e-01],\n",
       "          [4.60849673e-01, 4.45163399e-01, 3.98104578e-01],\n",
       "          ...,\n",
       "          [5.47603250e-01, 5.20152271e-01, 4.57407147e-01],\n",
       "          [5.41176498e-01, 5.09803951e-01, 4.58823532e-01],\n",
       "          [5.32418311e-01, 5.08888900e-01, 4.47973847e-01]],\n",
       " \n",
       "         [[5.29411793e-01, 5.01960814e-01, 4.39215690e-01],\n",
       "          [5.34509838e-01, 4.99215692e-01, 4.40392166e-01],\n",
       "          [5.41176498e-01, 5.05882382e-01, 4.47058827e-01],\n",
       "          ...,\n",
       "          [5.53921461e-01, 5.26470482e-01, 4.55882251e-01],\n",
       "          [5.45450926e-01, 5.10156810e-01, 4.51333255e-01],\n",
       "          [5.36339641e-01, 5.02876043e-01, 4.43137258e-01]],\n",
       " \n",
       "         [[5.40261447e-01, 5.06797373e-01, 4.41045761e-01],\n",
       "          [5.37908494e-01, 5.02614379e-01, 4.35947716e-01],\n",
       "          [5.41830063e-01, 5.06535947e-01, 4.47712421e-01],\n",
       "          ...,\n",
       "          [5.52396238e-01, 5.17102122e-01, 4.50435460e-01],\n",
       "          [5.49019635e-01, 5.13725519e-01, 4.47058827e-01],\n",
       "          [5.41176498e-01, 5.13725519e-01, 4.43137258e-01]],\n",
       " \n",
       "         ...,\n",
       " \n",
       "         [[3.71634007e-01, 3.59869301e-01, 3.24575186e-01],\n",
       "          [3.73725504e-01, 3.58039230e-01, 3.22745115e-01],\n",
       "          [3.79738569e-01, 3.71895432e-01, 3.24836612e-01],\n",
       "          ...,\n",
       "          [3.95533532e-01, 3.68082553e-01, 3.36710006e-01],\n",
       "          [3.85293782e-01, 3.69607508e-01, 3.22548687e-01],\n",
       "          [3.75969291e-01, 3.64204586e-01, 3.30741048e-01]],\n",
       " \n",
       "         [[3.56862754e-01, 3.45098048e-01, 3.09803933e-01],\n",
       "          [3.65882069e-01, 3.54117364e-01, 3.18823248e-01],\n",
       "          [3.64705890e-01, 3.64705890e-01, 3.17647070e-01],\n",
       "          ...,\n",
       "          [3.84313732e-01, 3.68627459e-01, 3.33333343e-01],\n",
       "          [3.77646774e-01, 3.61960500e-01, 3.18823248e-01],\n",
       "          [3.73725206e-01, 3.61960500e-01, 3.26666385e-01]],\n",
       " \n",
       "         [[3.48317891e-01, 3.38658363e-01, 3.02662522e-01],\n",
       "          [3.56222063e-01, 3.44457358e-01, 3.09163243e-01],\n",
       "          [3.58540773e-01, 3.56710196e-01, 3.09651375e-01],\n",
       "          ...,\n",
       "          [3.75555307e-01, 3.67712170e-01, 3.20653349e-01],\n",
       "          [3.77385885e-01, 3.58953744e-01, 3.16731781e-01],\n",
       "          [3.56862754e-01, 3.56862754e-01, 3.17647070e-01]]],\n",
       " \n",
       " \n",
       "        [[[6.26322448e-01, 5.38431406e-01, 3.98183018e-01],\n",
       "          [6.38300657e-01, 5.52026153e-01, 4.06928092e-01],\n",
       "          [6.37320220e-01, 5.50130665e-01, 4.07777756e-01],\n",
       "          ...,\n",
       "          [6.24139309e-01, 5.49629509e-01, 3.92766744e-01],\n",
       "          [6.28901601e-01, 5.41712105e-01, 3.99359137e-01],\n",
       "          [6.17777824e-01, 5.31503320e-01, 3.84574652e-01]],\n",
       " \n",
       "         [[6.29660130e-01, 5.51228762e-01, 4.06130701e-01],\n",
       "          [6.40039265e-01, 5.53764760e-01, 4.08666670e-01],\n",
       "          [6.46666646e-01, 5.60392141e-01, 4.07450974e-01],\n",
       "          ...,\n",
       "          [6.43595040e-01, 5.57320535e-01, 3.96536171e-01],\n",
       "          [6.37999356e-01, 5.51724851e-01, 3.98783654e-01],\n",
       "          [6.30065918e-01, 5.43791413e-01, 3.98693353e-01]],\n",
       " \n",
       "         [[6.32788658e-01, 5.54357290e-01, 4.09259230e-01],\n",
       "          [6.23921573e-01, 5.49411774e-01, 3.92549038e-01],\n",
       "          [6.38453186e-01, 5.52178681e-01, 3.99237454e-01],\n",
       "          ...,\n",
       "          [6.41176462e-01, 5.54901958e-01, 4.09803927e-01],\n",
       "          [6.31830156e-01, 5.53398788e-01, 4.16143835e-01],\n",
       "          [6.24292195e-01, 5.45860827e-01, 4.00762737e-01]],\n",
       " \n",
       "         ...,\n",
       " \n",
       "         [[6.13204241e-01, 5.41439533e-01, 4.11112696e-01],\n",
       "          [6.29281163e-01, 5.58692873e-01, 4.17516440e-01],\n",
       "          [6.33006692e-01, 5.54575324e-01, 4.09477264e-01],\n",
       "          ...,\n",
       "          [6.40739679e-01, 5.54465115e-01, 4.06969547e-01],\n",
       "          [6.39411807e-01, 5.49215734e-01, 4.23725545e-01],\n",
       "          [6.18541837e-01, 5.44032037e-01, 4.17626560e-01]],\n",
       " \n",
       "         [[6.18038654e-01, 5.47450423e-01, 4.06273931e-01],\n",
       "          [6.34862900e-01, 5.56431532e-01, 4.11333501e-01],\n",
       "          [6.27451003e-01, 5.56862772e-01, 4.00000006e-01],\n",
       "          ...,\n",
       "          [6.43595040e-01, 5.53398967e-01, 3.92614663e-01],\n",
       "          [6.34195566e-01, 5.43999493e-01, 4.10666168e-01],\n",
       "          [6.09802485e-01, 5.38038075e-01, 4.00390148e-01]],\n",
       " \n",
       "         [[5.98870933e-01, 5.28709829e-01, 3.87960464e-01],\n",
       "          [6.22614145e-01, 5.52025914e-01, 4.03006285e-01],\n",
       "          [6.11197889e-01, 5.40609658e-01, 3.99433225e-01],\n",
       "          ...,\n",
       "          [6.39869571e-01, 5.53595066e-01, 3.98823351e-01],\n",
       "          [6.41828954e-01, 5.47711313e-01, 4.12547380e-01],\n",
       "          [6.25146389e-01, 5.38871884e-01, 3.93773824e-01]]],\n",
       " \n",
       " \n",
       "        [[[8.71764719e-01, 2.38300651e-01, 1.49019614e-01],\n",
       "          [8.64405215e-01, 2.44405225e-01, 1.56954259e-01],\n",
       "          [8.74008715e-01, 2.56230950e-01, 1.58191726e-01],\n",
       "          ...,\n",
       "          [9.94683325e-01, 4.34574097e-01, 3.67907435e-01],\n",
       "          [9.93346632e-01, 4.24719185e-01, 3.52039456e-01],\n",
       "          [9.89852309e-01, 4.13808852e-01, 3.43007058e-01]],\n",
       " \n",
       "         [[8.57385635e-01, 2.32196093e-01, 1.75071910e-01],\n",
       "          [8.65215719e-01, 2.47450978e-01, 1.62352934e-01],\n",
       "          [8.76797378e-01, 2.57189542e-01, 1.51307195e-01],\n",
       "          ...,\n",
       "          [9.99084532e-01, 4.32417691e-01, 3.65751028e-01],\n",
       "          [9.87097859e-01, 4.09451097e-01, 3.50705594e-01],\n",
       "          [9.85490203e-01, 4.28627461e-01, 3.50196093e-01]],\n",
       " \n",
       "         [[1.18801698e-01, 4.30479318e-01, 5.91764748e-01],\n",
       "          [6.99999988e-01, 3.67647022e-01, 4.36470538e-01],\n",
       "          [8.80065382e-01, 2.53050119e-01, 1.66775614e-01],\n",
       "          ...,\n",
       "          [9.15140688e-01, 5.03591716e-01, 4.90082979e-01],\n",
       "          [9.47059274e-01, 4.34313953e-01, 4.14052069e-01],\n",
       "          [8.97997081e-01, 5.26997149e-01, 5.65909028e-01]],\n",
       " \n",
       "         ...,\n",
       " \n",
       "         [[9.94400978e-01, 8.85969341e-01, 9.80980814e-01],\n",
       "          [1.00000000e+00, 8.58297288e-01, 9.17902052e-01],\n",
       "          [9.60788131e-01, 2.97604531e-01, 1.72659904e-01],\n",
       "          ...,\n",
       "          [9.95969415e-01, 3.95969421e-01, 2.31263503e-01],\n",
       "          [9.96535957e-01, 3.76928091e-01, 2.23986909e-01],\n",
       "          [9.94488716e-01, 6.87430620e-01, 6.71396732e-01]],\n",
       " \n",
       "         [[1.00000000e+00, 8.78993571e-01, 9.96614277e-01],\n",
       "          [9.83922124e-01, 3.24745476e-01, 1.70274064e-01],\n",
       "          [9.78822470e-01, 3.16077381e-01, 1.47449926e-01],\n",
       "          ...,\n",
       "          [9.95424509e-01, 3.91502947e-01, 2.42483348e-01],\n",
       "          [9.92156863e-01, 3.95255029e-01, 2.40667000e-01],\n",
       "          [1.00000000e+00, 6.56171799e-01, 6.24799728e-01]],\n",
       " \n",
       "         [[9.99084949e-01, 8.69411767e-01, 9.69067216e-01],\n",
       "          [9.80902612e-01, 3.16902220e-01, 1.30196869e-01],\n",
       "          [9.94356990e-01, 3.15925628e-01, 1.48213476e-01],\n",
       "          ...,\n",
       "          [9.95685875e-01, 3.99607450e-01, 2.38823146e-01],\n",
       "          [9.93227661e-01, 4.12144601e-01, 2.62616813e-01],\n",
       "          [9.90553916e-01, 5.72776616e-01, 4.95260566e-01]]],\n",
       " \n",
       " \n",
       "        [[[2.97124207e-01, 3.55947733e-01, 2.81437933e-01],\n",
       "          [2.95032680e-01, 3.53856206e-01, 2.79346377e-01],\n",
       "          [2.98039228e-01, 3.52941185e-01, 2.86274523e-01],\n",
       "          ...,\n",
       "          [3.12963039e-01, 3.71786565e-01, 2.83420533e-01],\n",
       "          [3.15176398e-01, 3.76745045e-01, 2.87463963e-01],\n",
       "          [3.14200491e-01, 3.75769138e-01, 2.86488086e-01]],\n",
       " \n",
       "         [[3.32405239e-01, 3.87307197e-01, 3.20640534e-01],\n",
       "          [3.34509820e-01, 3.89411777e-01, 3.22745115e-01],\n",
       "          [3.30588251e-01, 3.85490209e-01, 3.18823546e-01],\n",
       "          ...,\n",
       "          [3.38823497e-01, 3.93725455e-01, 2.95686245e-01],\n",
       "          [3.40745270e-01, 3.95647228e-01, 2.97608018e-01],\n",
       "          [3.42745066e-01, 3.97647023e-01, 2.98692524e-01]],\n",
       " \n",
       "         [[3.37254912e-01, 4.03921574e-01, 3.30326796e-01],\n",
       "          [3.48366022e-01, 3.99346411e-01, 3.28758180e-01],\n",
       "          [3.48366022e-01, 3.99346411e-01, 3.28758180e-01],\n",
       "          ...,\n",
       "          [3.52178603e-01, 4.11002129e-01, 3.20806056e-01],\n",
       "          [3.56209159e-01, 4.09477353e-01, 3.24182510e-01],\n",
       "          [3.52287591e-01, 4.07189548e-01, 3.16993475e-01]],\n",
       " \n",
       "         ...,\n",
       " \n",
       "         [[4.29803610e-01, 5.19999683e-01, 4.57254589e-01],\n",
       "          [4.32549030e-01, 5.26666701e-01, 4.63921577e-01],\n",
       "          [4.46405232e-01, 5.44444442e-01, 4.69934642e-01],\n",
       "          ...,\n",
       "          [4.49781597e-01, 5.39977670e-01, 4.69389439e-01],\n",
       "          [4.42157179e-01, 5.32353282e-01, 4.53921884e-01],\n",
       "          [4.31111187e-01, 5.13464093e-01, 4.46797460e-01]],\n",
       " \n",
       "         [[4.19607848e-01, 5.09803951e-01, 4.39215690e-01],\n",
       "          [4.28627163e-01, 5.26666403e-01, 4.52156574e-01],\n",
       "          [4.32352692e-01, 5.30391932e-01, 4.55882102e-01],\n",
       "          ...,\n",
       "          [4.32548732e-01, 5.26666403e-01, 4.63921279e-01],\n",
       "          [4.28274393e-01, 5.22392035e-01, 4.59646940e-01],\n",
       "          [4.19868737e-01, 5.13986409e-01, 4.51241285e-01]],\n",
       " \n",
       "         [[4.00687814e-01, 4.91585612e-01, 4.28840518e-01],\n",
       "          [4.03921574e-01, 5.07058084e-01, 4.35294122e-01],\n",
       "          [4.14770991e-01, 5.08888662e-01, 4.46143538e-01],\n",
       "          ...,\n",
       "          [4.17384714e-01, 5.11502385e-01, 4.48757291e-01],\n",
       "          [4.14770991e-01, 5.08888662e-01, 4.46143538e-01],\n",
       "          [4.03006285e-01, 5.08888662e-01, 4.40391392e-01]]],\n",
       " \n",
       " \n",
       "        [[[4.60915029e-01, 0.00000000e+00, 0.00000000e+00],\n",
       "          [4.94117647e-01, 3.92156886e-03, 0.00000000e+00],\n",
       "          [5.05228758e-01, 1.50326826e-02, 0.00000000e+00],\n",
       "          ...,\n",
       "          [3.45185339e-01, 5.64056411e-02, 2.28735595e-03],\n",
       "          [3.73870373e-01, 7.49161169e-02, 1.03409514e-02],\n",
       "          [2.87270874e-01, 8.31763353e-03, 0.00000000e+00]],\n",
       " \n",
       "         [[4.62745100e-01, 0.00000000e+00, 0.00000000e+00],\n",
       "          [4.82705891e-01, 0.00000000e+00, 0.00000000e+00],\n",
       "          [5.05228758e-01, 2.28758194e-02, 3.26797646e-03],\n",
       "          ...,\n",
       "          [3.73267770e-01, 1.17647508e-03, 0.00000000e+00],\n",
       "          [3.58116955e-01, 3.17598553e-03, 8.23327049e-04],\n",
       "          [3.57123941e-01, 3.17520611e-02, 6.65326184e-03]],\n",
       " \n",
       "         [[5.91394365e-01, 2.60021865e-01, 1.99237511e-01],\n",
       "          [6.11764729e-01, 2.79085010e-01, 2.26797432e-01],\n",
       "          [5.82461894e-01, 2.40305051e-01, 1.81808323e-01],\n",
       "          ...,\n",
       "          [3.57951939e-01, 0.00000000e+00, 0.00000000e+00],\n",
       "          [3.57320309e-01, 4.57562419e-04, 0.00000000e+00],\n",
       "          [3.24030429e-01, 6.90678181e-03, 0.00000000e+00]],\n",
       " \n",
       "         ...,\n",
       " \n",
       "         [[6.85752273e-01, 2.64052927e-01, 1.13355830e-01],\n",
       "          [5.23137212e-01, 9.15685222e-02, 3.64057682e-02],\n",
       "          [5.09803593e-01, 7.45094791e-02, 3.13722268e-02],\n",
       "          ...,\n",
       "          [3.79629225e-01, 7.29826186e-03, 0.00000000e+00],\n",
       "          [4.19215292e-01, 5.84309883e-02, 3.26765468e-03],\n",
       "          [4.90215629e-01, 1.32698953e-01, 2.94322632e-02]],\n",
       " \n",
       "         [[6.53724909e-01, 2.32940584e-01, 1.19855985e-01],\n",
       "          [5.09020150e-01, 7.05882385e-02, 4.12154905e-02],\n",
       "          [5.04248559e-01, 6.48368895e-02, 2.22877264e-02],\n",
       "          ...,\n",
       "          [4.36928570e-01, 6.90863878e-02, 1.28113516e-02],\n",
       "          [3.76077563e-01, 1.13716871e-02, 0.00000000e+00],\n",
       "          [3.53568316e-01, 0.00000000e+00, 0.00000000e+00]],\n",
       " \n",
       "         [[5.49885988e-01, 1.12761304e-01, 4.51798625e-02],\n",
       "          [5.17385840e-01, 5.76470532e-02, 1.84313674e-02],\n",
       "          [5.17647088e-01, 4.31372561e-02, 0.00000000e+00],\n",
       "          ...,\n",
       "          [4.62894857e-01, 9.81889665e-02, 2.93225553e-02],\n",
       "          [3.68627459e-01, 0.00000000e+00, 0.00000000e+00],\n",
       "          [3.53856474e-01, 0.00000000e+00, 0.00000000e+00]]]],\n",
       "       dtype=float32),\n",
       " (array([[[0, 1, 0]],\n",
       "  \n",
       "         [[1, 0, 0]],\n",
       "  \n",
       "         [[0, 0, 1]],\n",
       "  \n",
       "         [[1, 0, 0]],\n",
       "  \n",
       "         [[0, 0, 1]]], dtype=uint8),\n",
       "  array([[[0.2404, 0.1411, 0.745 , 0.885 ]],\n",
       "  \n",
       "         [[0.2192, 0.2566, 0.784 , 0.8247]],\n",
       "  \n",
       "         [[0.3005, 0.369 , 0.654 , 0.755 ]],\n",
       "  \n",
       "         [[0.1753, 0.216 , 0.704 , 0.7417]],\n",
       "  \n",
       "         [[0.317 , 0.3298, 0.626 , 0.6196]]], dtype=float16)))"
      ]
     },
     "execution_count": 18,
     "metadata": {},
     "output_type": "execute_result"
    }
   ],
   "source": [
    "train.as_numpy_iterator().next()"
   ]
  },
  {
   "cell_type": "markdown",
   "id": "64bdd4d3",
   "metadata": {},
   "source": [
    "# 2. Preparació de la intel·ligència artificial"
   ]
  },
  {
   "cell_type": "markdown",
   "id": "254f476e",
   "metadata": {},
   "source": [
    "### 2.1 Descarregar i carregar el model VGG16"
   ]
  },
  {
   "cell_type": "code",
   "execution_count": 19,
   "id": "d709c624",
   "metadata": {},
   "outputs": [],
   "source": [
    "import tensorflow.keras.models\n",
    "import tensorflow.keras.layers\n",
    "import tensorflow.keras.applications"
   ]
  },
  {
   "cell_type": "code",
   "execution_count": 20,
   "id": "a87f38e7",
   "metadata": {},
   "outputs": [],
   "source": [
    "from tensorflow.keras.models import Model\n",
    "from tensorflow.keras.layers import Input, Conv2D, Dense, GlobalMaxPooling2D\n",
    "from tensorflow.keras.applications import VGG16"
   ]
  },
  {
   "cell_type": "code",
   "execution_count": 21,
   "id": "cd1cd114",
   "metadata": {},
   "outputs": [],
   "source": [
    "vgg = VGG16(include_top=False) \n",
    "#Marca que les ultimes capes de la xarxa no les utilitzarem perquè afegirem les nostres pròpies"
   ]
  },
  {
   "cell_type": "code",
   "execution_count": 22,
   "id": "26209fc9",
   "metadata": {},
   "outputs": [],
   "source": [
    "\n",
    "'''\n",
    "La funció crea i retorna un model de xarxa neuronal convolucional per a la detecció dels objectes. \n",
    "El model té dues parts: una per a determinar si una imatge conté algun objecte i una altra per a localitzar l'obkecte (poma, pera o mandarina) a l'imatge. \n",
    "Al utilitzar VGG16, com que esta pre-entrenada, les característiques del input\n",
    "i les classifica en dues branques que son les dues parts mencionades abans de manera automàtica. \n",
    "'''\n",
    "def build_model(): \n",
    "    input_layer = Input(shape=(120,120,3))\n",
    "    \n",
    "    vgg = VGG16(include_top=False)(input_layer)\n",
    "    #Model de classificació\n",
    "    f1 = GlobalMaxPooling2D()(vgg)\n",
    "    class1 = Dense(2048, activation='relu')(f1) #relu == funció que determina la classe; \n",
    "    class2 = Dense(3, activation='sigmoid')(class1) # sigmoid == funció que determina la presició de la classe\n",
    "\n",
    "    # sigmoid = f(x) = 1/(1+e^-x)\n",
    "    \n",
    "    #Model de localització de coordenades\n",
    "    f2 = GlobalMaxPooling2D()(vgg)\n",
    "    regress1 = Dense(2048, activation='relu')(f2)\n",
    "    regress2 = Dense(4, activation='sigmoid')(regress1)\n",
    "    \n",
    "    detector = Model(inputs=input_layer, outputs=[class2, regress2])\n",
    "    return detector"
   ]
  },
  {
   "cell_type": "code",
   "execution_count": 23,
   "id": "d47d7819",
   "metadata": {},
   "outputs": [],
   "source": [
    "detector = build_model()"
   ]
  },
  {
   "cell_type": "code",
   "execution_count": 24,
   "id": "b1f7e89b",
   "metadata": {},
   "outputs": [],
   "source": [
    "X, y = train.as_numpy_iterator().next()"
   ]
  },
  {
   "cell_type": "code",
   "execution_count": 25,
   "id": "1a70487b",
   "metadata": {},
   "outputs": [
    {
     "data": {
      "text/plain": [
       "(5, 120, 120, 3)"
      ]
     },
     "execution_count": 25,
     "metadata": {},
     "output_type": "execute_result"
    }
   ],
   "source": [
    "X.shape"
   ]
  },
  {
   "cell_type": "code",
   "execution_count": 26,
   "id": "12e85f12",
   "metadata": {},
   "outputs": [
    {
     "name": "stdout",
     "output_type": "stream",
     "text": [
      "1/1 [==============================] - 2s 2s/step\n"
     ]
    }
   ],
   "source": [
    "classes, coords = detector.predict(X)\n"
   ]
  },
  {
   "cell_type": "code",
   "execution_count": 27,
   "id": "3022fa19",
   "metadata": {},
   "outputs": [
    {
     "data": {
      "text/plain": [
       "(array([[0.41607636, 0.5330623 , 0.45269388],\n",
       "        [0.46201065, 0.5499785 , 0.34531695],\n",
       "        [0.3781547 , 0.5299118 , 0.3916191 ],\n",
       "        [0.40173906, 0.47513995, 0.35691676],\n",
       "        [0.43985146, 0.55458874, 0.39565498]], dtype=float32),\n",
       " array([[0.41408738, 0.3853688 , 0.40439588, 0.3589015 ],\n",
       "        [0.43940789, 0.33017153, 0.52670896, 0.3984025 ],\n",
       "        [0.42709196, 0.5118934 , 0.47716942, 0.48549405],\n",
       "        [0.40803415, 0.35972494, 0.57409674, 0.44650546],\n",
       "        [0.48597935, 0.32692662, 0.5212117 , 0.44810253]], dtype=float32))"
      ]
     },
     "execution_count": 27,
     "metadata": {},
     "output_type": "execute_result"
    }
   ],
   "source": [
    "classes,coords\n"
   ]
  },
  {
   "cell_type": "markdown",
   "id": "6e82e086",
   "metadata": {},
   "source": [
    "### 2.2 Funcions de pèrdua i optimitzadors\n",
    "Els optimitzadors són algorismes que s’utilitzen per ajustar els pesos d’una xarxa neuronal durant l’entrenament. Els optimitzadors són responsables de minimitzar la funció de pèrdua de la xarxa neuronal."
   ]
  },
  {
   "cell_type": "code",
   "execution_count": 28,
   "id": "4a95066a",
   "metadata": {},
   "outputs": [
    {
     "data": {
      "text/plain": [
       "\"\\nEn el context de les xarxes neuronals, un optimitzador és un algorisme\\nque ajuda a ajustar els paràmetres de la xarxa per aconseguir una millor precisió.\\nL'optimitzador Adam és un exemple d'això i ajuda a l'optimitzador a convergir més ràpidament\\ni amb més precisió.\\n\""
      ]
     },
     "execution_count": 28,
     "metadata": {},
     "output_type": "execute_result"
    }
   ],
   "source": [
    "opt = tf.keras.optimizers.legacy.Adam(learning_rate=0.0001) #li introduïm el decay que hem calculat a l'optimitzador\n",
    "\n",
    "'''\n",
    "En el context de les xarxes neuronals, un optimitzador és un algorisme\n",
    "que ajuda a ajustar els paràmetres de la xarxa per aconseguir una millor precisió.\n",
    "L'optimitzador Adam és un exemple d'això i ajuda a l'optimitzador a convergir més ràpidament\n",
    "i amb més precisió.\n",
    "'''"
   ]
  },
  {
   "cell_type": "markdown",
   "id": "08bb0627",
   "metadata": {},
   "source": [
    "### Creació de 'Localitzation Loss' i 'Classification Loss'"
   ]
  },
  {
   "cell_type": "markdown",
   "id": "400ff5f5",
   "metadata": {},
   "source": [
    "La funció té dos components: la pèrdua de localització i la pèrdua de classificació.\n",
    "La pèrdua de localització mesura la diferència entre les coordenades dels quadres delimitadors \n",
    "predits i les coordenades dels quadres delimitadors reals. La pèrdua de classificació mesura la\n",
    "diferència entre les probabilitats de classe predites i les probabilitats de classe reals. \n",
    "En aquesta funció, només es calcula la pèrdua de localització.\n",
    "\n",
    "La funció té com a entrada dos tensors: y_true i yhat. \n",
    "y_true conté les coordenades dels quadres delimitadors reals i\n",
    "les probabilitats de classe reals per a cada objecte en la imatge d’entrada.\n",
    "yhat conté les coordenades dels quadres delimitadors predits i les\n",
    "probabilitats de classe predites per a cada objecte en la imatge d’entrada.\n",
    "\n",
    "La funció calcula la pèrdua de localització sumant el quadrat de la diferència\n",
    "entre les coordenades dels quadres delimitadors reals i les coordenades dels quadres\n",
    "delimitadors predits. A continuació, calcula la diferència entre l’amplada i l’alçada\n",
    "dels quadres delimitadors reals i els quadres delimitadors predits i suma els quadrats\n",
    "d’aquestes diferències. Finalment, retorna la suma de les dues pèrdues."
   ]
  },
  {
   "cell_type": "code",
   "execution_count": 29,
   "id": "a0159efe",
   "metadata": {},
   "outputs": [],
   "source": [
    "def localization_loss(y_true, yhat):#primer valor: coordenades reals, segon valor: coordenades previstes     \n",
    "    y_true = tf.reshape(y_true, (5, 4))\n",
    "    \n",
    "    delta_coord = tf.reduce_sum(tf.square(y_true[:,:2] - yhat[:,:2])) #diferència dels dos primers valors de cada fila de la matriu\n",
    "                  \n",
    "    h_true = y_true[:,3] - y_true[:,1] #quarta columna d'una matriu - segona columna\n",
    "    w_true = y_true[:,2] - y_true[:,0] #tercera columna - primera\n",
    "\n",
    "    h_pred = yhat[:,3] - yhat[:,1] \n",
    "    w_pred = yhat[:,2] - yhat[:,0] \n",
    "    '''\n",
    "    delta_size = suma dels quadrats de les diferències entre les dimensions originals \n",
    "    i les dimensions reconstruïdes de l'imatge.\n",
    "    '''\n",
    "    delta_size = tf.reduce_sum(tf.square(w_true - w_pred) + tf.square(h_true-h_pred))\n",
    "    return delta_coord + delta_size"
   ]
  },
  {
   "cell_type": "code",
   "execution_count": 30,
   "id": "72140c33",
   "metadata": {},
   "outputs": [],
   "source": [
    "classloss = tf.keras.losses.CategoricalCrossentropy() #model que fa una classificació binaria \n",
    "regressloss = localization_loss #model que acabem de crear"
   ]
  },
  {
   "cell_type": "code",
   "execution_count": 31,
   "id": "4ada2dbe",
   "metadata": {},
   "outputs": [
    {
     "data": {
      "text/plain": [
       "<tf.Tensor: shape=(), dtype=float16, numpy=2.975>"
      ]
     },
     "execution_count": 31,
     "metadata": {},
     "output_type": "execute_result"
    }
   ],
   "source": [
    "regressloss(y[1], coords)"
   ]
  },
  {
   "cell_type": "code",
   "execution_count": 32,
   "id": "40377733",
   "metadata": {},
   "outputs": [
    {
     "data": {
      "text/plain": [
       "<tf.Tensor: shape=(), dtype=float32, numpy=1.030512>"
      ]
     },
     "execution_count": 32,
     "metadata": {},
     "output_type": "execute_result"
    }
   ],
   "source": [
    "y_reshaped = tf.reshape(y[0], (5, 3))\n",
    "classloss(y_reshaped, classes)"
   ]
  },
  {
   "cell_type": "code",
   "execution_count": 33,
   "id": "cf6a98f2",
   "metadata": {},
   "outputs": [
    {
     "data": {
      "text/plain": [
       "<tf.Tensor: shape=(), dtype=float16, numpy=2.975>"
      ]
     },
     "execution_count": 33,
     "metadata": {},
     "output_type": "execute_result"
    }
   ],
   "source": [
    "localization_loss(y[1], coords)"
   ]
  },
  {
   "cell_type": "markdown",
   "id": "130bdab9",
   "metadata": {},
   "source": [
    "# 3. Entrenament de la intel·ligència artificial"
   ]
  },
  {
   "cell_type": "markdown",
   "id": "59fe1595",
   "metadata": {},
   "source": [
    "### 3.1 Creació del propi model "
   ]
  },
  {
   "cell_type": "code",
   "execution_count": 76,
   "id": "e6d68167",
   "metadata": {},
   "outputs": [],
   "source": [
    "import keras\n",
    "from tensorflow.keras.utils import serialize_keras_object"
   ]
  },
  {
   "cell_type": "code",
   "execution_count": 102,
   "id": "ae1b2c52",
   "metadata": {},
   "outputs": [],
   "source": [
    "\n",
    "# Clear any previously registered custom objects to avoid conflicts\n",
    "tf.keras.utils.get_custom_objects().clear()\n",
    "\n",
    "# Register custom objects within the \"MyLayers\" package\n",
    "@tf.keras.utils.register_keras_serializable(package=\"MyLayers\")\n",
    "class Detector(Model):\n",
    "    def __init__(self, fruita, **kwargs):\n",
    "        super().__init__(**kwargs)\n",
    "        self.base_model = fruita\n",
    "\n",
    "    def compile(self, opt, classloss, localizationloss, **kwargs):\n",
    "        super().compile(**kwargs)\n",
    "        self.closs = classloss\n",
    "        self.lloss = localizationloss\n",
    "        self.opt = opt\n",
    "\n",
    "    def train_step(self, batch, **kwargs):\n",
    "        X, y = batch\n",
    "\n",
    "        with tf.GradientTape() as tape:\n",
    "            classes, coords = self.base_model(X, training=True)\n",
    "            batch_classloss = self.closs(tf.reshape(y[0], (5, 3)), classes)\n",
    "            batch_localizationloss = self.lloss(tf.cast(y[1], tf.float32), coords)\n",
    "\n",
    "            total_loss = batch_localizationloss + 0.5 * batch_classloss\n",
    "\n",
    "        grad = tape.gradient(total_loss, self.base_model.trainable_variables)\n",
    "        self.opt.apply_gradients(zip(grad, self.base_model.trainable_variables))\n",
    "\n",
    "        return {\"total_loss\": total_loss, \"class_loss\": batch_classloss, \"regress_loss\": batch_localizationloss}\n",
    "\n",
    "    def test_step(self, batch, **kwargs):\n",
    "        X, y = batch\n",
    "\n",
    "        classes, coords = self.base_model(X, training=False)\n",
    "\n",
    "        batch_classloss = self.closs(tf.reshape(y[0], (5, 3)), classes)\n",
    "        batch_localizationloss = self.lloss(tf.cast(y[1], tf.float32), coords)\n",
    "        total_loss = batch_localizationloss + 0.5 * batch_classloss\n",
    "\n",
    "        return {\"total_loss\": total_loss, \"class_loss\": batch_classloss, \"regress_loss\": batch_localizationloss}\n",
    "\n",
    "    def call(self, X, **kwargs):\n",
    "        return self.base_model(X, **kwargs)\n",
    "    \n",
    "    def get_config(self):\n",
    "        # Get the base configuration\n",
    "        base_config = super().get_config()\n",
    "        \n",
    "        # Serialize the \"fruita\" model and store it in the configuration\n",
    "        fruita_config = serialize_keras_object(self.base_model)\n",
    "        \n",
    "        # Construct the complete configuration dictionary\n",
    "        config = {\n",
    "            \"fruita\": fruita_config,\n",
    "        }\n",
    "        \n",
    "        # Merge the base configuration and the custom configuration\n",
    "        return {**base_config, **config}\n",
    "\n"
   ]
  },
  {
   "cell_type": "code",
   "execution_count": 107,
   "id": "2f405338",
   "metadata": {},
   "outputs": [],
   "source": [
    "detector.build(input_shape=(5, 120, 120, 3))\n",
    "model = Detector(detector)"
   ]
  },
  {
   "cell_type": "markdown",
   "id": "a834cc1d",
   "metadata": {},
   "source": [
    "El 'mode.compile' configura el model per utilitzar l'optimitzador especificat per minimitzar la combinació de les funcions de pèrdua de classificació i regressió durant el procés d'entrenament"
   ]
  },
  {
   "cell_type": "code",
   "execution_count": 108,
   "id": "5d1e7058",
   "metadata": {},
   "outputs": [],
   "source": [
    "model.compile(opt, classloss, regressloss)"
   ]
  },
  {
   "cell_type": "markdown",
   "id": "7e3b8c9f",
   "metadata": {},
   "source": [
    "### 3.2 Entrenament\n"
   ]
  },
  {
   "cell_type": "code",
   "execution_count": 109,
   "id": "11e01cdb",
   "metadata": {},
   "outputs": [],
   "source": [
    "test_data = test.as_numpy_iterator().next()"
   ]
  },
  {
   "cell_type": "code",
   "execution_count": 110,
   "id": "c423845a",
   "metadata": {},
   "outputs": [
    {
     "name": "stdout",
     "output_type": "stream",
     "text": [
      "WARNING:tensorflow:6 out of the last 6 calls to <function Model.make_predict_function.<locals>.predict_function at 0x000002038124E160> triggered tf.function retracing. Tracing is expensive and the excessive number of tracings could be due to (1) creating @tf.function repeatedly in a loop, (2) passing tensors with different shapes, (3) passing Python objects instead of tensors. For (1), please define your @tf.function outside of the loop. For (2), @tf.function has reduce_retracing=True option that can avoid unnecessary retracing. For (3), please refer to https://www.tensorflow.org/guide/function#controlling_retracing and https://www.tensorflow.org/api_docs/python/tf/function for  more details.\n",
      "1/1 [==============================] - 1s 828ms/step\n"
     ]
    }
   ],
   "source": [
    "yhat = model.predict(test_data[0])"
   ]
  },
  {
   "cell_type": "code",
   "execution_count": 111,
   "id": "6d11d3ba",
   "metadata": {},
   "outputs": [],
   "source": [
    "logdir='logs' #Crea un directori on es guardarà la informació del Tensorboard "
   ]
  },
  {
   "cell_type": "markdown",
   "id": "0c141568",
   "metadata": {},
   "source": [
    "TensorBoard és una eina de visualització interactiva que s'utilitza en l'entrenament de models de xarxes neuronals per poder entendre millor el comportament del model durant l'entrenament i ajustar els paràmetres de manera més efectiva. \n"
   ]
  },
  {
   "cell_type": "code",
   "execution_count": 112,
   "id": "8616a537",
   "metadata": {},
   "outputs": [],
   "source": [
    "tensorboard_callback = tf.keras.callbacks.TensorBoard(log_dir=logdir) #crea un callback per registrar la informació del model "
   ]
  },
  {
   "cell_type": "code",
   "execution_count": 113,
   "id": "e2666bd4",
   "metadata": {},
   "outputs": [
    {
     "name": "stdout",
     "output_type": "stream",
     "text": [
      "207/207 [==============================] - 451s 2s/step - total_loss: 0.0186 - class_loss: 0.0013 - regress_loss: 0.0180 - val_total_loss: 0.0659 - val_class_loss: 0.0066 - val_regress_loss: 0.0626\n"
     ]
    }
   ],
   "source": [
    "hist = model.fit(train, epochs=1, validation_data=val, callbacks=[tensorboard_callback])"
   ]
  },
  {
   "cell_type": "markdown",
   "id": "b5d0ac73",
   "metadata": {},
   "source": [
    "Aquesta última línia es passa tota la informació de train (osigui crida a tota la funció d'entrenament) per 10 iteracions (epochs) i registra les dades d'entrenament i validació durant l'entrenament a partir del callback de TensorBoard, llavors \"hist\" conté tota la info sobre les losses (pèrdues) i l'exactitud del model durant l'entrenament"
   ]
  },
  {
   "cell_type": "markdown",
   "id": "e7f34d80",
   "metadata": {},
   "source": [
    "### 3.3 Anàlisi del rendiment de l'entrenament"
   ]
  },
  {
   "cell_type": "code",
   "execution_count": 114,
   "id": "e20d354a",
   "metadata": {},
   "outputs": [
    {
     "data": {
      "text/plain": [
       "{'total_loss': [0.02044566534459591],\n",
       " 'class_loss': [0.001047809375450015],\n",
       " 'regress_loss': [0.019921761006116867],\n",
       " 'val_total_loss': [0.06589268147945404],\n",
       " 'val_class_loss': [0.006581450346857309],\n",
       " 'val_regress_loss': [0.0626019537448883]}"
      ]
     },
     "execution_count": 114,
     "metadata": {},
     "output_type": "execute_result"
    }
   ],
   "source": [
    "hist.history #per veure totes les pèrdues (losses)"
   ]
  },
  {
   "cell_type": "markdown",
   "id": "b8bf7e81",
   "metadata": {},
   "source": [
    "El següent fragment mostra totes les losses de manera gràfica, en teoria tant les pèrdues i les pèrdues validades com les de classificació de localització i les totals haurien de ser valors molt semblants per a ser més exactes, en cas que no ho son deu haver-hi algun problema amb alguna anotation i no l'haurà processat bé (tampoc és un problema greu)"
   ]
  },
  {
   "cell_type": "code",
   "execution_count": 57,
   "id": "4fb61c2a",
   "metadata": {},
   "outputs": [
    {
     "data": {
      "image/png": "[encoded data removed]",
      "text/plain": [
       "<Figure size 2000x500 with 3 Axes>"
      ]
     },
     "metadata": {},
     "output_type": "display_data"
    }
   ],
   "source": [
    "fig, ax = plt.subplots(ncols=3, figsize=(20,5))\n",
    "\n",
    "ax[0].plot(hist.history['total_loss'], color='teal', label='loss')\n",
    "ax[0].plot(hist.history['val_total_loss'], color='orange', label='val loss')\n",
    "ax[0].title.set_text('Loss')\n",
    "ax[0].legend()\n",
    "\n",
    "ax[1].plot(hist.history['class_loss'], color='teal', label='class loss')\n",
    "ax[1].plot(hist.history['val_class_loss'], color='orange', label='val class loss')\n",
    "ax[1].title.set_text('Classification Loss')\n",
    "ax[1].legend()\n",
    "\n",
    "ax[2].plot(hist.history['regress_loss'], color='teal', label='regress loss')\n",
    "ax[2].plot(hist.history['val_regress_loss'], color='orange', label='val regress loss')\n",
    "ax[2].title.set_text('Regression Loss')\n",
    "ax[2].legend()\n",
    "\n",
    "plt.show()"
   ]
  },
  {
   "cell_type": "markdown",
   "id": "5669ad25",
   "metadata": {},
   "source": [
    "### Provem i desem el model"
   ]
  },
  {
   "cell_type": "code",
   "execution_count": 116,
   "id": "4561a424",
   "metadata": {},
   "outputs": [],
   "source": [
    "from keras.models import load_model"
   ]
  },
  {
   "cell_type": "code",
   "execution_count": 133,
   "id": "4181c1bd",
   "metadata": {},
   "outputs": [
    {
     "name": "stdout",
     "output_type": "stream",
     "text": [
      "INFO:tensorflow:Assets written to: detector_fruites.tf\\assets\n"
     ]
    },
    {
     "name": "stderr",
     "output_type": "stream",
     "text": [
      "INFO:tensorflow:Assets written to: detector_fruites.tf\\assets\n"
     ]
    }
   ],
   "source": [
    "model.save('detector_fruites.tf')"
   ]
  },
  {
   "cell_type": "code",
   "execution_count": 134,
   "id": "9ed42a55",
   "metadata": {},
   "outputs": [
    {
     "ename": "PermissionError",
     "evalue": "[Errno 13] Permission denied: 'detector_fruites.tf'",
     "output_type": "error",
     "traceback": [
      "\u001b[1;31m---------------------------------------------------------------------------\u001b[0m",
      "\u001b[1;31mPermissionError\u001b[0m                           Traceback (most recent call last)",
      "\u001b[1;32mt:\\practica_tr\\main.ipynb Cell 81\u001b[0m line \u001b[0;36m3\n\u001b[0;32m      <a href='vscode-notebook-cell:/t%3A/practica_tr/main.ipynb#Y154sZmlsZQ%3D%3D?line=0'>1</a>\u001b[0m serialized_detector \u001b[39m=\u001b[39m tf\u001b[39m.\u001b[39mkeras\u001b[39m.\u001b[39mutils\u001b[39m.\u001b[39mserialize_keras_object(model)\n\u001b[0;32m      <a href='vscode-notebook-cell:/t%3A/practica_tr/main.ipynb#Y154sZmlsZQ%3D%3D?line=1'>2</a>\u001b[0m \u001b[39m# Save the serialized object to a file\u001b[39;00m\n\u001b[1;32m----> <a href='vscode-notebook-cell:/t%3A/practica_tr/main.ipynb#Y154sZmlsZQ%3D%3D?line=2'>3</a>\u001b[0m \u001b[39mwith\u001b[39;00m \u001b[39mopen\u001b[39;49m(\u001b[39m'\u001b[39;49m\u001b[39mdetector_fruites.tf\u001b[39;49m\u001b[39m'\u001b[39;49m, \u001b[39m'\u001b[39;49m\u001b[39mwb\u001b[39;49m\u001b[39m'\u001b[39;49m) \u001b[39mas\u001b[39;00m f:\n\u001b[0;32m      <a href='vscode-notebook-cell:/t%3A/practica_tr/main.ipynb#Y154sZmlsZQ%3D%3D?line=3'>4</a>\u001b[0m     f\u001b[39m.\u001b[39mwrite(serialized_detector)\n",
      "File \u001b[1;32mt:\\env\\Lib\\site-packages\\IPython\\core\\interactiveshell.py:284\u001b[0m, in \u001b[0;36m_modified_open\u001b[1;34m(file, *args, **kwargs)\u001b[0m\n\u001b[0;32m    277\u001b[0m \u001b[39mif\u001b[39;00m file \u001b[39min\u001b[39;00m {\u001b[39m0\u001b[39m, \u001b[39m1\u001b[39m, \u001b[39m2\u001b[39m}:\n\u001b[0;32m    278\u001b[0m     \u001b[39mraise\u001b[39;00m \u001b[39mValueError\u001b[39;00m(\n\u001b[0;32m    279\u001b[0m         \u001b[39mf\u001b[39m\u001b[39m\"\u001b[39m\u001b[39mIPython won\u001b[39m\u001b[39m'\u001b[39m\u001b[39mt let you open fd=\u001b[39m\u001b[39m{\u001b[39;00mfile\u001b[39m}\u001b[39;00m\u001b[39m by default \u001b[39m\u001b[39m\"\u001b[39m\n\u001b[0;32m    280\u001b[0m         \u001b[39m\"\u001b[39m\u001b[39mas it is likely to crash IPython. If you know what you are doing, \u001b[39m\u001b[39m\"\u001b[39m\n\u001b[0;32m    281\u001b[0m         \u001b[39m\"\u001b[39m\u001b[39myou can use builtins\u001b[39m\u001b[39m'\u001b[39m\u001b[39m open.\u001b[39m\u001b[39m\"\u001b[39m\n\u001b[0;32m    282\u001b[0m     )\n\u001b[1;32m--> 284\u001b[0m \u001b[39mreturn\u001b[39;00m io_open(file, \u001b[39m*\u001b[39;49margs, \u001b[39m*\u001b[39;49m\u001b[39m*\u001b[39;49mkwargs)\n",
      "\u001b[1;31mPermissionError\u001b[0m: [Errno 13] Permission denied: 'detector_fruites.tf'"
     ]
    }
   ],
   "source": [
    "serialized_detector = tf.keras.utils.serialize_keras_object(model)\n",
    "# Save the serialized object to a file\n",
    "with open('detector_fruites.tf', 'wb') as f:\n",
    "    f.write(serialized_detector)"
   ]
  },
  {
   "cell_type": "markdown",
   "id": "31c4c925",
   "metadata": {},
   "source": [
    "### El provem amb la webcam"
   ]
  },
  {
   "cell_type": "code",
   "execution_count": 131,
   "id": "b4d2d1cb",
   "metadata": {},
   "outputs": [
    {
     "ename": "AttributeError",
     "evalue": "'dict' object has no attribute '_serialized_attributes'",
     "output_type": "error",
     "traceback": [
      "\u001b[1;31m---------------------------------------------------------------------------\u001b[0m",
      "\u001b[1;31mAttributeError\u001b[0m                            Traceback (most recent call last)",
      "\u001b[1;32mt:\\practica_tr\\main.ipynb Cell 82\u001b[0m line \u001b[0;36m1\n\u001b[1;32m----> <a href='vscode-notebook-cell:/t%3A/practica_tr/main.ipynb#Y143sZmlsZQ%3D%3D?line=0'>1</a>\u001b[0m new_model \u001b[39m=\u001b[39m tf\u001b[39m.\u001b[39;49mkeras\u001b[39m.\u001b[39;49mmodels\u001b[39m.\u001b[39;49mload_model(\u001b[39m'\u001b[39;49m\u001b[39mT:/practica_tr/detector_fruites.tf\u001b[39;49m\u001b[39m'\u001b[39;49m)\n",
      "File \u001b[1;32mt:\\env\\Lib\\site-packages\\keras\\src\\saving\\saving_api.py:238\u001b[0m, in \u001b[0;36mload_model\u001b[1;34m(filepath, custom_objects, compile, safe_mode, **kwargs)\u001b[0m\n\u001b[0;32m    230\u001b[0m     \u001b[39mreturn\u001b[39;00m saving_lib\u001b[39m.\u001b[39mload_model(\n\u001b[0;32m    231\u001b[0m         filepath,\n\u001b[0;32m    232\u001b[0m         custom_objects\u001b[39m=\u001b[39mcustom_objects,\n\u001b[0;32m    233\u001b[0m         \u001b[39mcompile\u001b[39m\u001b[39m=\u001b[39m\u001b[39mcompile\u001b[39m,\n\u001b[0;32m    234\u001b[0m         safe_mode\u001b[39m=\u001b[39msafe_mode,\n\u001b[0;32m    235\u001b[0m     )\n\u001b[0;32m    237\u001b[0m \u001b[39m# Legacy case.\u001b[39;00m\n\u001b[1;32m--> 238\u001b[0m \u001b[39mreturn\u001b[39;00m legacy_sm_saving_lib\u001b[39m.\u001b[39;49mload_model(\n\u001b[0;32m    239\u001b[0m     filepath, custom_objects\u001b[39m=\u001b[39;49mcustom_objects, \u001b[39mcompile\u001b[39;49m\u001b[39m=\u001b[39;49m\u001b[39mcompile\u001b[39;49m, \u001b[39m*\u001b[39;49m\u001b[39m*\u001b[39;49mkwargs\n\u001b[0;32m    240\u001b[0m )\n",
      "File \u001b[1;32mt:\\env\\Lib\\site-packages\\keras\\src\\utils\\traceback_utils.py:70\u001b[0m, in \u001b[0;36mfilter_traceback.<locals>.error_handler\u001b[1;34m(*args, **kwargs)\u001b[0m\n\u001b[0;32m     67\u001b[0m     filtered_tb \u001b[39m=\u001b[39m _process_traceback_frames(e\u001b[39m.\u001b[39m__traceback__)\n\u001b[0;32m     68\u001b[0m     \u001b[39m# To get the full stack trace, call:\u001b[39;00m\n\u001b[0;32m     69\u001b[0m     \u001b[39m# `tf.debugging.disable_traceback_filtering()`\u001b[39;00m\n\u001b[1;32m---> 70\u001b[0m     \u001b[39mraise\u001b[39;00m e\u001b[39m.\u001b[39mwith_traceback(filtered_tb) \u001b[39mfrom\u001b[39;00m \u001b[39mNone\u001b[39;00m\n\u001b[0;32m     71\u001b[0m \u001b[39mfinally\u001b[39;00m:\n\u001b[0;32m     72\u001b[0m     \u001b[39mdel\u001b[39;00m filtered_tb\n",
      "File \u001b[1;32mt:\\env\\Lib\\site-packages\\wrapt\\wrappers.py:202\u001b[0m, in \u001b[0;36mObjectProxy.__setattr__\u001b[1;34m(self, name, value)\u001b[0m\n\u001b[0;32m    199\u001b[0m     \u001b[39mobject\u001b[39m\u001b[39m.\u001b[39m\u001b[39m__setattr__\u001b[39m(\u001b[39mself\u001b[39m, name, value)\n\u001b[0;32m    201\u001b[0m \u001b[39melse\u001b[39;00m:\n\u001b[1;32m--> 202\u001b[0m     \u001b[39msetattr\u001b[39m(\u001b[39mself\u001b[39m\u001b[39m.\u001b[39m__wrapped__, name, value)\n",
      "\u001b[1;31mAttributeError\u001b[0m: 'dict' object has no attribute '_serialized_attributes'"
     ]
    }
   ],
   "source": [
    "new_model = tf.keras.models.load_model('T:/practica_tr/detector_fruites.tf')"
   ]
  },
  {
   "cell_type": "code",
   "execution_count": null,
   "id": "e7accfe8",
   "metadata": {},
   "outputs": [],
   "source": [
    "cap = cv2.VideoCapture(1)\n",
    "while cap.isOpened():\n",
    "    _ , frame = cap.read()\n",
    "    frame = frame[50:500, 50:500,:]\n",
    "    \n",
    "    rgb = cv2.cvtColor(frame, cv2.COLOR_BGR2RGB)\n",
    "    resized = tf.image.resize(rgb, (120,120))\n",
    "    \n",
    "    yhat = Detector.predict(np.expand_dims(resized/255,0))\n",
    "    sample_coords = yhat[1][0]\n",
    "    \n",
    "    if yhat[0] > 0.5: \n",
    "        # Controls the main rectangle\n",
    "        cv2.rectangle(frame, \n",
    "                      tuple(np.multiply(sample_coords[:2], [450,450]).astype(int)),\n",
    "                      tuple(np.multiply(sample_coords[2:], [450,450]).astype(int)), \n",
    "                            (255,0,0), 2)\n",
    "        # Controls the label rectangle\n",
    "        cv2.rectangle(frame, \n",
    "                      tuple(np.add(np.multiply(sample_coords[:2], [450,450]).astype(int), \n",
    "                                    [0,-30])),\n",
    "                      tuple(np.add(np.multiply(sample_coords[:2], [450,450]).astype(int),\n",
    "                                    [80,0])), \n",
    "                            (255,0,0), -1)\n",
    "        \n",
    "        if yhat[0] > 0.8 and yhat[0] < 1.2:\n",
    "        # Controls the text rendered\n",
    "            cv2.putText(frame, 'poma', tuple(np.add(np.multiply(sample_coords[:2], [450,450]).astype(int),\n",
    "                                                [0,-5])),\n",
    "                        cv2.FONT_HERSHEY_SIMPLEX, 1, (255,255,255), 2, cv2.LINE_AA)\n",
    "        elif yhat[0] > 1.8 and yhat[0] < 2.2:\n",
    "            cv2.putText(frame, 'pera', tuple(np.add(np.multiply(sample_coords[:2], [450,450]).astype(int),\n",
    "                                                [0,-5])),\n",
    "                        cv2.FONT_HERSHEY_SIMPLEX, 1, (255,255,255), 2, cv2.LINE_AA)\n",
    "        elif yhat[0] > 2.8 and yhat[0] < 3.2:\n",
    "                        cv2.putText(frame, 'mandarina', tuple(np.add(np.multiply(sample_coords[:2], [450,450]).astype(int),\n",
    "                                                [0,-5])),\n",
    "                        cv2.FONT_HERSHEY_SIMPLEX, 1, (255,255,255), 2, cv2.LINE_AA)\n",
    "        else:           \n",
    "                cv2.putText(frame, 'no ho tinc clar', tuple(np.add(np.multiply(sample_coords[:2], [450,450]).astype(int),\n",
    "                                                [0,-5])),\n",
    "                cv2.FONT_HERSHEY_SIMPLEX, 1, (255,255,255), 2, cv2.LINE_AA)\n",
    "        \n",
    "    cv2.imshow('EyeTrack', frame)\n",
    "    \n",
    "    if cv2.waitKey(1) & 0xFF == ord('q'):\n",
    "        break\n",
    "cap.release()\n",
    "cv2.destroyAllWindows()"
   ]
  }
 ],
 "metadata": {
  "kernelspec": {
   "display_name": "Python 3 (ipykernel)",
   "language": "python",
   "name": "python3"
  },
  "language_info": {
   "codemirror_mode": {
    "name": "ipython",
    "version": 3
   },
   "file_extension": ".py",
   "mimetype": "text/x-python",
   "name": "python",
   "nbconvert_exporter": "python",
   "pygments_lexer": "ipython3",
   "version": "3.11.3"
  }
 },
 "nbformat": 4,
 "nbformat_minor": 5
}

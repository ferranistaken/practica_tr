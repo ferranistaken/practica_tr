{
 "cells": [
  {
   "cell_type": "code",
   "execution_count": null,
   "id": "7652d352",
   "metadata": {},
   "outputs": [],
   "source": [
    "%pip install labelme tensorflow opencv-python matplotlib albumentations "
   ]
  },
  {
   "cell_type": "markdown",
   "id": "33e0455a",
   "metadata": {},
   "source": [
    "# 1. Obtenció i tractament de dades"
   ]
  },
  {
   "cell_type": "markdown",
   "id": "9578d20b",
   "metadata": {},
   "source": [
    "### 1.1 Ús de la llibreria LabelMe"
   ]
  },
  {
   "cell_type": "code",
   "execution_count": null,
   "id": "aaed57d5",
   "metadata": {},
   "outputs": [],
   "source": [
    "!labelme "
   ]
  },
  {
   "cell_type": "markdown",
   "id": "23d6376c",
   "metadata": {},
   "source": [
    "###  1.2 Creació de la base de dades"
   ]
  },
  {
   "cell_type": "code",
   "execution_count": 1,
   "id": "b42b8df7",
   "metadata": {},
   "outputs": [],
   "source": [
    "#importació de llibreries necessàries\n",
    "import tensorflow as tf\n",
    "import json\n",
    "import numpy as np\n",
    "from matplotlib import pyplot as plt\n",
    "import os\n",
    "import random\n",
    "import shutil\n",
    "import math"
   ]
  },
  {
   "cell_type": "code",
   "execution_count": 2,
   "id": "8b7ac200",
   "metadata": {},
   "outputs": [],
   "source": [
    "#limitació de la memòria GPU \n",
    "gpus = tf.config.experimental.list_physical_devices('GPU')\n",
    "for gpu in gpus: \n",
    "    tf.config.experimental.set_memory_growth(gpu, True)"
   ]
  },
  {
   "cell_type": "code",
   "execution_count": 3,
   "id": "ce224428",
   "metadata": {},
   "outputs": [],
   "source": [
    "imatges = tf.data.Dataset.list_files('imatges\\\\*.jpg') # introduïm les imatges"
   ]
  },
  {
   "cell_type": "code",
   "execution_count": 4,
   "id": "6f3a5584",
   "metadata": {},
   "outputs": [],
   "source": [
    "def carregar_imatge(imatge): #funció per a carregar imatges\n",
    "    byte_img = tf.io.read_file(imatge)\n",
    "    img = tf.image.decode_jpeg(byte_img)\n",
    "    return img"
   ]
  },
  {
   "cell_type": "code",
   "execution_count": 5,
   "id": "9c7a78f4",
   "metadata": {},
   "outputs": [],
   "source": [
    "imatges = imatges.map(carregar_imatge) #executem la funció "
   ]
  },
  {
   "cell_type": "code",
   "execution_count": null,
   "id": "0dad48be",
   "metadata": {},
   "outputs": [],
   "source": [
    "imatges.as_numpy_iterator().next() "
   ]
  },
  {
   "cell_type": "code",
   "execution_count": 6,
   "id": "fa93ae8b",
   "metadata": {},
   "outputs": [],
   "source": [
    "def imatgesDividir(dir_carpeta, n_imatges):\n",
    "    num_elements = len(os.listdir(os.path.join(dir_carpeta, \"imatges\")))\n",
    "    n_train = round(num_elements*0.7) # 70% de les imatges per entrenar\n",
    "    n_test = round(num_elements*0.15) # 15% de les imatges per provar\n",
    "    n_val = num_elements - (n_train + n_test) # 15% de les imatges per validar\n",
    "\n",
    "    llista = []\n",
    "    for i in range(1, (n_imatges + 1)):\n",
    "        llista.append(i)\n",
    "\n",
    "    while len(llista) > n_train:\n",
    "        if (len(os.listdir(os.path.join(dir_carpeta,\"dades\",\"test\")))-1)< n_test:\n",
    "            for i in range(n_test):\n",
    "                n = random.choice(llista)\n",
    "                nom = str(str(n) + \".jpg\")\n",
    "                shutil.move(os.path.join(dir_carpeta, \"imatges\", nom ), os.path.join(dir_carpeta, \"dades\", \"test\" , \"imatges\"))\n",
    "                llista.remove(n)\n",
    "\n",
    "        if (len(os.listdir(os.path.join(dir_carpeta,\"dades\",\"val\")))-1) < n_val:\n",
    "            for i in range(n_val):\n",
    "                n = random.choice(llista)\n",
    "                nom = str(str(n) + \".jpg\")\n",
    "                shutil.move(os.path.join(dir_carpeta, \"imatges\", nom), os.path.join(dir_carpeta,\"dades\" , \"val\", \"imatges\"))\n",
    "                llista.remove(n)\n",
    "\n",
    "    for i in llista:\n",
    "        nom = str(i) + \".jpg\"\n",
    "        shutil.move(os.path.join(dir_carpeta, \"imatges\", nom), os.path.join(dir_carpeta, \"dades\",\"train\", \"imatges\"))"
   ]
  },
  {
   "cell_type": "code",
   "execution_count": 7,
   "id": "8643289a",
   "metadata": {},
   "outputs": [],
   "source": [
    "# Crear la carpeta principal\n",
    "os.mkdir(\"dades\")\n",
    "\n",
    "# Crear les subcarpetes dins de la carpeta principal\n",
    "for subcarpeta in [\"train\", \"test\", \"val\"]:\n",
    "    path_subcarpeta = os.path.join(\"dades\", subcarpeta)\n",
    "    os.mkdir(path_subcarpeta)\n",
    "    path_subsubcarpeta = os.path.join(\"dades\", subcarpeta, \"imatges\")\n",
    "    os.mkdir(path_subsubcarpeta)\n",
    "    path_subsubcarpeta2 = os.path.join(\"dades\", subcarpeta, \"labels\")\n",
    "    os.mkdir(path_subsubcarpeta2)\n",
    "\n",
    "imatgesDividir('D:\\TR\\practica_tr',300) #divisió de les carpetes i de les imatges"
   ]
  },
  {
   "cell_type": "markdown",
   "id": "b439be43",
   "metadata": {},
   "source": [
    "### Partició de les dades"
   ]
  },
  {
   "cell_type": "code",
   "execution_count": 8,
   "id": "f7dce6b1",
   "metadata": {},
   "outputs": [],
   "source": [
    "# mou les els labels a les seves respectives carpetes\n",
    "def moureLabels(dir_carpeta):\n",
    "    for carpeta in ['train','test','val']:\n",
    "        for arxiu in os.listdir(os.path.join(dir_carpeta,'dades', carpeta, 'imatges')): #per cada arxiu en cada carpeta\n",
    "            n = arxiu.split(\".\")\n",
    "            json = str(n[0] + \".json\")\n",
    "            shutil.move(os.path.join(dir_carpeta, \"labels\", json ), os.path.join(dir_carpeta, \"dades\", carpeta, \"labels\"))#canviem"
   ]
  },
  {
   "cell_type": "code",
   "execution_count": 9,
   "id": "2277dd51",
   "metadata": {},
   "outputs": [],
   "source": [
    "moureLabels('D:\\TR\\practica_tr')"
   ]
  },
  {
   "cell_type": "markdown",
   "id": "5f70389c",
   "metadata": {},
   "source": [
    "### 1.2.1 Ús de la llibreria Albumentation"
   ]
  },
  {
   "cell_type": "code",
   "execution_count": 10,
   "id": "071c1384",
   "metadata": {},
   "outputs": [],
   "source": [
    "import albumentations as alb\n",
    "import cv2"
   ]
  },
  {
   "cell_type": "code",
   "execution_count": 11,
   "id": "93969970",
   "metadata": {},
   "outputs": [],
   "source": [
    "augmentor = alb.Compose([alb.RandomCrop(width=1024, height=1024),\n",
    "                         alb.HorizontalFlip(p=0.5), \n",
    "                         alb.RandomBrightnessContrast(p=0.5),\n",
    "                         alb.RandomGamma(p=0.7), \n",
    "                         alb.RGBShift(p=0.5), \n",
    "                         alb.VerticalFlip(p=0.7)], \n",
    "                       bbox_params=alb.BboxParams(format='albumentations', \n",
    "                                                  label_fields=['class_labels']))"
   ]
  },
  {
   "cell_type": "code",
   "execution_count": 12,
   "id": "7e41c01a",
   "metadata": {},
   "outputs": [],
   "source": [
    "os.mkdir(\"aug_dades\")\n",
    "\n",
    "# Crear les subcarpetes dins de la carpeta principal\n",
    "for subcarpeta in [\"train\", \"test\", \"val\"]:\n",
    "    path_subcarpeta = os.path.join(\"aug_dades\", subcarpeta)\n",
    "    os.mkdir(path_subcarpeta)\n",
    "    path_subsubcarpeta = os.path.join(\"aug_dades\", subcarpeta, \"imatges\")\n",
    "    os.mkdir(path_subsubcarpeta)\n",
    "    path_subsubcarpeta2 = os.path.join(\"aug_dades\", subcarpeta, \"labels\")\n",
    "    os.mkdir(path_subsubcarpeta2)\n"
   ]
  },
  {
   "cell_type": "code",
   "execution_count": 13,
   "id": "6a36e346",
   "metadata": {},
   "outputs": [
    {
     "name": "stdout",
     "output_type": "stream",
     "text": [
      "Requested crop size (1024, 1024) is larger than the image size (512, 512)\n",
      "Requested crop size (1024, 1024) is larger than the image size (512, 512)\n",
      "Requested crop size (1024, 1024) is larger than the image size (512, 512)\n",
      "Requested crop size (1024, 1024) is larger than the image size (512, 512)\n"
     ]
    }
   ],
   "source": [
    "classes_fruita = [\"buit\",\"poma\", \"pera\", \"mandarina\"]\n",
    "partitions = ['train', 'test', 'val']\n",
    "\n",
    "for partition in partitions:\n",
    "    input_folder = os.path.join('dades', partition, 'imatges')\n",
    "    output_folder = os.path.join('aug_dades', partition, 'imatges')\n",
    "\n",
    "    for imatge in os.listdir(input_folder):\n",
    "        img_path = os.path.join(input_folder, imatge)\n",
    "        img = cv2.imread(img_path)\n",
    "        label_path = os.path.join('dades', partition, 'labels', f'{imatge.split(\".\")[0]}.json')\n",
    "\n",
    "        if os.path.exists(label_path):\n",
    "            with open(label_path, 'r') as f:\n",
    "                label = json.load(f)\n",
    "\n",
    "            for shape in label['shapes']:\n",
    "                class_name = shape['label'] \n",
    "                class_id = classes_fruita.index(class_name)\n",
    "                coords = shape['points']\n",
    "                coords = [(coords[0][0]/1024), (coords[0][1]/1024), (coords[1][0]/1024), (coords[1][1]/1024)]\n",
    "\n",
    "                try:\n",
    "                    for x in range(40):\n",
    "                        augmented = augmentor(image=img, bboxes=[coords], class_labels=[class_name])\n",
    "                        augmented_img = augmented['image']\n",
    "\n",
    "                        annotation = {\n",
    "                            'image': f'{imatge.split(\".\")[0]}.{x}.jpg',\n",
    "                            'bbox': augmented['bboxes'],\n",
    "                            'class': class_id,\n",
    "                        }\n",
    "                        output_img_path = os.path.join(output_folder, annotation['image'])\n",
    "                        cv2.imwrite(output_img_path, augmented_img)\n",
    "\n",
    "                        output_json_path = os.path.join('aug_dades', partition, 'labels', f'{imatge.split(\".\")[0]}.{x}.json')\n",
    "                        with open(output_json_path, 'w') as f:\n",
    "                            json.dump(annotation, f) \n",
    "                except Exception as e:\n",
    "                    print(e)\n"
   ]
  },
  {
   "cell_type": "markdown",
   "id": "9cf0c55a",
   "metadata": {},
   "source": [
    "### Incloure imatges creades amb Albumentations a la Dataset"
   ]
  },
  {
   "cell_type": "code",
   "execution_count": 75,
   "id": "7f16bf99",
   "metadata": {},
   "outputs": [],
   "source": [
    "train_imatges = tf.data.Dataset.list_files('aug_dades\\\\train\\\\imatges\\\\*.jpg',shuffle=False)\n",
    "train_imatges = train_imatges.map(carregar_imatge)\n",
    "train_imatges = train_imatges.map(lambda x: tf.image.resize(x, (120,120)))\n",
    "train_imatges = train_imatges.map(lambda x: x/200)"
   ]
  },
  {
   "cell_type": "code",
   "execution_count": 77,
   "id": "05456564",
   "metadata": {},
   "outputs": [],
   "source": [
    "test_imatges = tf.data.Dataset.list_files('aug_dades\\\\test\\\\imatges\\\\*.jpg', shuffle=False)\n",
    "test_imatges = test_imatges.map(carregar_imatge)\n",
    "test_imatges = test_imatges.map(lambda x: tf.image.resize(x, (120,120)))\n",
    "test_imatges = test_imatges.map(lambda x: x/200)"
   ]
  },
  {
   "cell_type": "code",
   "execution_count": 76,
   "id": "167107c7",
   "metadata": {},
   "outputs": [],
   "source": [
    "val_imatges = tf.data.Dataset.list_files('aug_dades\\\\val\\\\imatges\\\\*.jpg', shuffle=False)\n",
    "val_imatges = val_imatges.map(carregar_imatge)\n",
    "val_imatges = val_imatges.map(lambda x: tf.image.resize(x, (120,120)))\n",
    "val_imatges = val_imatges.map(lambda x: x/200)"
   ]
  },
  {
   "cell_type": "code",
   "execution_count": 78,
   "id": "59755dc7",
   "metadata": {},
   "outputs": [
    {
     "data": {
      "text/plain": [
       "array([[[0.07677222, 0.09027222, 0.07177223],\n",
       "        [0.098     , 0.09416667, 0.08416667],\n",
       "        [0.09697223, 0.09430556, 0.06833334],\n",
       "        ...,\n",
       "        [0.15369374, 0.13930587, 0.12483335],\n",
       "        [0.16746612, 0.15983371, 0.14331676],\n",
       "        [0.03937793, 0.06116667, 0.0552723 ]],\n",
       "\n",
       "       [[0.09796669, 0.09413335, 0.07646669],\n",
       "        [0.37849998, 0.35849997, 0.30094996],\n",
       "        [0.36975   , 0.35474998, 0.27975   ],\n",
       "        ...,\n",
       "        [0.48233375, 0.44233376, 0.37733376],\n",
       "        [0.5074503 , 0.46745026, 0.41245025],\n",
       "        [0.054167  , 0.064167  , 0.05150099]],\n",
       "\n",
       "       [[0.10066667, 0.09800001, 0.07300001],\n",
       "        [0.3865    , 0.36650002, 0.30650002],\n",
       "        [0.39      , 0.375     , 0.3       ],\n",
       "        ...,\n",
       "        [0.5043056 , 0.4643056 , 0.4093056 ],\n",
       "        [0.51716596, 0.48416668, 0.4156663 ],\n",
       "        [0.06766602, 0.07      , 0.06116699]],\n",
       "\n",
       "       ...,\n",
       "\n",
       "       [[0.04947253, 0.06297253, 0.05447253],\n",
       "        [0.29225013, 0.30225012, 0.29725012],\n",
       "        [0.28430563, 0.28930563, 0.29930562],\n",
       "        ...,\n",
       "        [0.585     , 0.59      , 0.56      ],\n",
       "        [0.5814134 , 0.5814134 , 0.5714134 ],\n",
       "        [0.07019459, 0.07636158, 0.08286061]],\n",
       "\n",
       "       [[0.05534991, 0.06534991, 0.05034991],\n",
       "        [0.2891006 , 0.29410058, 0.3041006 ],\n",
       "        [0.29700074, 0.29700074, 0.28866738],\n",
       "        ...,\n",
       "        [0.5745842 , 0.56958413, 0.54958415],\n",
       "        [0.58174783, 0.5742973 , 0.5738988 ],\n",
       "        [0.07385038, 0.08235074, 0.08184964]],\n",
       "\n",
       "       [[0.04472803, 0.05706136, 0.05260596],\n",
       "        [0.0396499 , 0.04848291, 0.04698389],\n",
       "        [0.04416667, 0.05416667, 0.04150065],\n",
       "        ...,\n",
       "        [0.08116699, 0.088833  , 0.08733398],\n",
       "        [0.06254906, 0.09404808, 0.06838402],\n",
       "        [0.07089462, 0.07910538, 0.06266601]]], dtype=float32)"
      ]
     },
     "execution_count": 78,
     "metadata": {},
     "output_type": "execute_result"
    }
   ],
   "source": [
    "train_imatges.as_numpy_iterator().next()"
   ]
  },
  {
   "cell_type": "markdown",
   "id": "0900d8c7",
   "metadata": {},
   "source": [
    "### 2.5 Carregar labels"
   ]
  },
  {
   "cell_type": "code",
   "execution_count": 79,
   "id": "8f31855c",
   "metadata": {},
   "outputs": [],
   "source": [
    "def carregar_labels(label_path):\n",
    "    with open(label_path.numpy(), 'r', encoding = \"utf-8\") as f:\n",
    "        label = json.load(f)\n",
    "        \n",
    "    return [label['class']], label['bbox']"
   ]
  },
  {
   "cell_type": "code",
   "execution_count": 80,
   "id": "f279ef40",
   "metadata": {},
   "outputs": [],
   "source": [
    "train_labels = tf.data.Dataset.list_files('aug_dades\\\\train\\\\labels\\\\*.json', shuffle=False)\n",
    "train_labels = train_labels.map(lambda x: tf.py_function(carregar_labels, [x], [tf.uint8, tf.float16]))"
   ]
  },
  {
   "cell_type": "code",
   "execution_count": 81,
   "id": "2fbc102b",
   "metadata": {},
   "outputs": [],
   "source": [
    "test_labels = tf.data.Dataset.list_files('aug_dades\\\\test\\\\labels\\\\*.json', shuffle=False)\n",
    "test_labels = test_labels.map(lambda x: tf.py_function(carregar_labels, [x], [tf.uint8, tf.float16]))"
   ]
  },
  {
   "cell_type": "code",
   "execution_count": 82,
   "id": "a532244b",
   "metadata": {},
   "outputs": [],
   "source": [
    "val_labels = tf.data.Dataset.list_files('aug_dades\\\\val\\\\labels\\\\*.json', shuffle=False)\n",
    "val_labels = val_labels.map(lambda x: tf.py_function(carregar_labels, [x], [tf.uint8, tf.float16]))"
   ]
  },
  {
   "cell_type": "code",
   "execution_count": 83,
   "id": "f65cbee7",
   "metadata": {},
   "outputs": [
    {
     "data": {
      "text/plain": [
       "(array([1], dtype=uint8),\n",
       " array([[0.286 , 0.2192, 0.7354, 0.743 ]], dtype=float16))"
      ]
     },
     "execution_count": 83,
     "metadata": {},
     "output_type": "execute_result"
    }
   ],
   "source": [
    "train_labels.as_numpy_iterator().next()"
   ]
  },
  {
   "cell_type": "markdown",
   "id": "94c9566b",
   "metadata": {},
   "source": [
    "### Combinar etiquetes i imatges"
   ]
  },
  {
   "cell_type": "code",
   "execution_count": 84,
   "id": "00975b19",
   "metadata": {},
   "outputs": [],
   "source": [
    "num_elements={}\n",
    "for carpeta in ['train','test','val']:\n",
    "    x = len(os.listdir(os.path.join('aug_dades', carpeta, 'imatges')))\n",
    "    num_elements.update({carpeta : round(x * 1.5)})"
   ]
  },
  {
   "cell_type": "code",
   "execution_count": 85,
   "id": "2ea1c80f",
   "metadata": {},
   "outputs": [],
   "source": [
    "train = tf.data.Dataset.zip((train_imatges, train_labels))\n",
    "train = train.shuffle(num_elements['train'])\n",
    "train = train.batch(8)\n",
    "train = train.prefetch(4)"
   ]
  },
  {
   "cell_type": "code",
   "execution_count": 86,
   "id": "c0ba0be7",
   "metadata": {},
   "outputs": [],
   "source": [
    "test = tf.data.Dataset.zip((test_imatges, test_labels))\n",
    "test = test.shuffle(num_elements['test'])\n",
    "test = test.batch(8)\n",
    "test = test.prefetch(4)"
   ]
  },
  {
   "cell_type": "code",
   "execution_count": 87,
   "id": "910bd91f",
   "metadata": {},
   "outputs": [],
   "source": [
    "val = tf.data.Dataset.zip((val_imatges, val_labels))\n",
    "val = val.shuffle(num_elements['val'])\n",
    "val = val.batch(8)\n",
    "val = val.prefetch(4)"
   ]
  },
  {
   "cell_type": "code",
   "execution_count": 88,
   "id": "938f7528",
   "metadata": {},
   "outputs": [
    {
     "data": {
      "text/plain": [
       "(array([[[[0.5347278 , 0.5447278 , 0.5397278 ],\n",
       "          [0.5438334 , 0.5438334 , 0.5438334 ],\n",
       "          [0.5440278 , 0.5440278 , 0.5440278 ],\n",
       "          ...,\n",
       "          [0.40313798, 0.39813796, 0.38813797],\n",
       "          [0.39614972, 0.3911497 , 0.3811497 ],\n",
       "          [0.38472772, 0.37972772, 0.36918312]],\n",
       " \n",
       "         [[0.5438334 , 0.53616667, 0.54      ],\n",
       "          [0.55255   , 0.54755   , 0.53755003],\n",
       "          [0.5520834 , 0.55708337, 0.53208333],\n",
       "          ...,\n",
       "          [0.3983325 , 0.3983325 , 0.38833252],\n",
       "          [0.395     , 0.395     , 0.395     ],\n",
       "          [0.38      , 0.38      , 0.37      ]],\n",
       " \n",
       "         [[0.5408333 , 0.5408333 , 0.53316665],\n",
       "          [0.55058336, 0.54558337, 0.5355833 ],\n",
       "          [0.55916667, 0.5541667 , 0.5441667 ],\n",
       "          ...,\n",
       "          [0.40416625, 0.40416625, 0.39416626],\n",
       "          [0.39766705, 0.40266705, 0.42266706],\n",
       "          [0.385     , 0.385     , 0.385     ]],\n",
       " \n",
       "         ...,\n",
       " \n",
       "         [[0.5211666 , 0.5261667 , 0.53616667],\n",
       "          [0.5241663 , 0.5341663 , 0.5291663 ],\n",
       "          [0.5334719 , 0.5334719 , 0.5334719 ],\n",
       "          ...,\n",
       "          [0.45069474, 0.44569474, 0.43569472],\n",
       "          [0.44850037, 0.44350037, 0.43350038],\n",
       "          [0.443833  , 0.438833  , 0.428833  ]],\n",
       " \n",
       "         [[0.49649963, 0.50149965, 0.51149964],\n",
       "          [0.5004499 , 0.5054499 , 0.5154499 ],\n",
       "          [0.5       , 0.52      , 0.525     ],\n",
       "          ...,\n",
       "          [0.43066588, 0.43066588, 0.4206659 ],\n",
       "          [0.43649963, 0.42649963, 0.43149963],\n",
       "          [0.42649963, 0.42149964, 0.41149962]],\n",
       " \n",
       "         [[0.48266637, 0.48766637, 0.49766636],\n",
       "          [0.48383301, 0.503833  , 0.508833  ],\n",
       "          [0.47883302, 0.503833  , 0.52383304],\n",
       "          ...,\n",
       "          [0.41883302, 0.41883302, 0.408833  ],\n",
       "          [0.42033264, 0.41416565, 0.40766662],\n",
       "          [0.41383302, 0.408833  , 0.398833  ]]],\n",
       " \n",
       " \n",
       "        [[[0.62383336, 0.60356116, 0.6893777 ],\n",
       "          [0.6165    , 0.59650004, 0.6815    ],\n",
       "          [0.6198056 , 0.5998056 , 0.6824722 ],\n",
       "          ...,\n",
       "          [0.5743608 , 0.5443608 , 0.6143608 ],\n",
       "          [0.56      , 0.54      , 0.61      ],\n",
       "          [0.5658947 , 0.542666  , 0.6182884 ]],\n",
       " \n",
       "         [[0.62581664, 0.60581666, 0.68081665],\n",
       "          [0.62      , 0.6       , 0.67      ],\n",
       "          [0.62525004, 0.59025   , 0.67025   ],\n",
       "          ...,\n",
       "          [0.565     , 0.55      , 0.605     ],\n",
       "          [0.56254977, 0.5425497 , 0.6125497 ],\n",
       "          [0.570834  , 0.547333  , 0.6335    ]],\n",
       " \n",
       "         [[0.63766664, 0.60616666, 0.685     ],\n",
       "          [0.635     , 0.605     , 0.675     ],\n",
       "          [0.63      , 0.595     , 0.675     ],\n",
       "          ...,\n",
       "          [0.565     , 0.545     , 0.615     ],\n",
       "          [0.565     , 0.545     , 0.62      ],\n",
       "          [0.565     , 0.545     , 0.63      ]],\n",
       " \n",
       "         ...,\n",
       " \n",
       "         [[0.80197126, 0.7719713 , 0.8419713 ],\n",
       "          [0.79      , 0.76      , 0.82      ],\n",
       "          [0.79013896, 0.75013894, 0.81513894],\n",
       "          ...,\n",
       "          [0.81347156, 0.7984715 , 0.8534715 ],\n",
       "          [0.82      , 0.79      , 0.86      ],\n",
       "          [0.82083374, 0.7808337 , 0.85583377]],\n",
       " \n",
       "         [[0.7779993 , 0.75799924, 0.82916594],\n",
       "          [0.7729993 , 0.75299925, 0.82299924],\n",
       "          [0.77149963, 0.75149965, 0.82149965],\n",
       "          ...,\n",
       "          [0.80941635, 0.7894164 , 0.86441636],\n",
       "          [0.8160499 , 0.7860499 , 0.8560499 ],\n",
       "          [0.8073166 , 0.7773166 , 0.84731656]],\n",
       " \n",
       "         [[0.78616697, 0.748833  , 0.83      ],\n",
       "          [0.778501  , 0.741167  , 0.832334  ],\n",
       "          [0.78      , 0.745     , 0.835     ],\n",
       "          ...,\n",
       "          [0.835     , 0.8       , 0.88      ],\n",
       "          [0.84050107, 0.8105011 , 0.8805011 ],\n",
       "          [0.832334  , 0.808833  , 0.885     ]]],\n",
       " \n",
       " \n",
       "        [[[0.4857611 , 0.40542778, 0.18721667],\n",
       "          [0.51166666, 0.42433333, 0.19783334],\n",
       "          [0.5239445 , 0.43894446, 0.22394447],\n",
       "          ...,\n",
       "          [0.57089186, 0.4570585 , 0.2335585 ],\n",
       "          [0.6022654 , 0.49726543, 0.27226543],\n",
       "          [0.6077612 , 0.51276124, 0.29776123]],\n",
       " \n",
       "         [[0.44936666, 0.37936664, 0.1867    ],\n",
       "          [0.50885   , 0.41884997, 0.21884999],\n",
       "          [0.5462499 , 0.45124993, 0.23624991],\n",
       "          ...,\n",
       "          [0.5878337 , 0.48308384, 0.24733348],\n",
       "          [0.59999853, 0.49104866, 0.25604865],\n",
       "          [0.5820986 , 0.49209857, 0.26209858]],\n",
       " \n",
       "         [[0.48299995, 0.40799996, 0.21105553],\n",
       "          [0.49891666, 0.40891665, 0.20891665],\n",
       "          [0.52208334, 0.43708336, 0.22208336],\n",
       "          ...,\n",
       "          [0.57514054, 0.48514053, 0.24514055],\n",
       "          [0.57641244, 0.47141242, 0.24641246],\n",
       "          [0.6010547 , 0.51605475, 0.29605472]],\n",
       " \n",
       "         ...,\n",
       " \n",
       "         [[0.48550242, 0.41550243, 0.22283576],\n",
       "          [0.5045093 , 0.42950934, 0.23450935],\n",
       "          [0.5577787 , 0.48194495, 0.28944618],\n",
       "          ...,\n",
       "          [0.5876215 , 0.50262153, 0.28262153],\n",
       "          [0.62141645, 0.5364164 , 0.31641644],\n",
       "          [0.5183137 , 0.42714673, 0.2006477 ]],\n",
       " \n",
       "         [[0.48787114, 0.41403782, 0.21903782],\n",
       "          [0.52771074, 0.45271075, 0.24771076],\n",
       "          [0.50858015, 0.43858016, 0.24358016],\n",
       "          ...,\n",
       "          [0.61198974, 0.52698976, 0.30698976],\n",
       "          [0.54744685, 0.46244687, 0.23244686],\n",
       "          [0.5785876 , 0.49358758, 0.27358758]],\n",
       " \n",
       "         [[0.54554754, 0.47054753, 0.25788152],\n",
       "          [0.50510645, 0.41893944, 0.20744042],\n",
       "          [0.5399617 , 0.4649617 , 0.25229567],\n",
       "          ...,\n",
       "          [0.5993812 , 0.5084088 , 0.2800477 ],\n",
       "          [0.5880177 , 0.48301774, 0.25035173],\n",
       "          [0.52051884, 0.43024647, 0.19518681]]],\n",
       " \n",
       " \n",
       "        ...,\n",
       " \n",
       " \n",
       "        [[[0.66177225, 0.70087785, 0.5185611 ],\n",
       "          [0.67721665, 0.7072166 , 0.53721666],\n",
       "          [0.6765278 , 0.7153611 , 0.5338611 ],\n",
       "          ...,\n",
       "          [0.7011667 , 0.7426667 , 0.5988333 ],\n",
       "          [0.685     , 0.745     , 0.565     ],\n",
       "          [0.6791831 , 0.7388333 , 0.56089437]],\n",
       " \n",
       "         [[0.6761667 , 0.71466666, 0.5435    ],\n",
       "          [0.68264997, 0.71765   , 0.54765   ],\n",
       "          [0.68950003, 0.72450006, 0.5545    ],\n",
       "          ...,\n",
       "          [0.7       , 0.75      , 0.58      ],\n",
       "          [0.68649966, 0.74149966, 0.58149964],\n",
       "          [0.685     , 0.73      , 0.587334  ]],\n",
       " \n",
       "         [[0.6848055 , 0.71980554, 0.5498056 ],\n",
       "          [0.68916667, 0.72416663, 0.55916667],\n",
       "          [0.685     , 0.73      , 0.575     ],\n",
       "          ...,\n",
       "          [0.7       , 0.76      , 0.58      ],\n",
       "          [0.69149965, 0.74649966, 0.58649963],\n",
       "          [0.69      , 0.735     , 0.59      ]],\n",
       " \n",
       "         ...,\n",
       " \n",
       "         [[0.49      , 0.555     , 0.415     ],\n",
       "          [0.49791637, 0.5629164 , 0.42291638],\n",
       "          [0.515     , 0.57      , 0.42      ],\n",
       "          ...,\n",
       "          [0.50916624, 0.57416624, 0.42416626],\n",
       "          [0.5       , 0.565     , 0.425     ],\n",
       "          [0.5048054 , 0.5548054 , 0.4198054 ]],\n",
       " \n",
       "         [[0.48418328, 0.54918325, 0.39918327],\n",
       "          [0.4904499 , 0.5554499 , 0.4054499 ],\n",
       "          [0.49649963, 0.56149966, 0.41149962],\n",
       "          ...,\n",
       "          [0.495     , 0.56      , 0.42      ],\n",
       "          [0.48604983, 0.5510498 , 0.40104985],\n",
       "          [0.48      , 0.545     , 0.405     ]],\n",
       " \n",
       "         [[0.47      , 0.535     , 0.385     ],\n",
       "          [0.48383301, 0.548833  , 0.398833  ],\n",
       "          [0.488833  , 0.553833  , 0.403833  ],\n",
       "          ...,\n",
       "          [0.48383301, 0.55      , 0.412334  ],\n",
       "          [0.47149962, 0.5414996 , 0.41149962],\n",
       "          [0.468833  , 0.533833  , 0.393833  ]]],\n",
       " \n",
       " \n",
       "        [[[0.61793894, 0.69793886, 0.5679389 ],\n",
       "          [0.62883335, 0.6988333 , 0.58383334],\n",
       "          [0.63383335, 0.70383334, 0.57883334],\n",
       "          ...,\n",
       "          [0.6079996 , 0.68299955, 0.5679996 ],\n",
       "          [0.605     , 0.6788333 , 0.56383336],\n",
       "          [0.5961667 , 0.6738333 , 0.545     ]],\n",
       " \n",
       "         [[0.61883336, 0.6976667 , 0.57116663],\n",
       "          [0.62895   , 0.69895   , 0.56895   ],\n",
       "          [0.62791663, 0.6979166 , 0.5729166 ],\n",
       "          ...,\n",
       "          [0.6105836 , 0.68558365, 0.5705836 ],\n",
       "          [0.6010497 , 0.69104975, 0.5610497 ],\n",
       "          [0.6076831 , 0.6876831 , 0.5576831 ]],\n",
       " \n",
       "         [[0.6190278 , 0.6890278 , 0.5640278 ],\n",
       "          [0.62675005, 0.69675004, 0.57175004],\n",
       "          [0.64263886, 0.71263885, 0.5976389 ],\n",
       "          ...,\n",
       "          [0.62916666, 0.69916666, 0.5841667 ],\n",
       "          [0.62      , 0.7       , 0.57      ],\n",
       "          [0.615     , 0.693833  , 0.567334  ]],\n",
       " \n",
       "         ...,\n",
       " \n",
       "         [[0.6009721 , 0.67980546, 0.55330545],\n",
       "          [0.6102501 , 0.6902501 , 0.5602501 ],\n",
       "          [0.61569476, 0.6856948 , 0.55569476],\n",
       "          ...,\n",
       "          [0.60916626, 0.67916626, 0.55416626],\n",
       "          [0.605     , 0.675     , 0.545     ],\n",
       "          [0.5991663 , 0.66916627, 0.54650027]],\n",
       " \n",
       "         [[0.5988333 , 0.6688333 , 0.55383337],\n",
       "          [0.60254973, 0.6825497 , 0.5525497 ],\n",
       "          [0.605     , 0.675     , 0.545     ],\n",
       "          ...,\n",
       "          [0.6067497 , 0.6867497 , 0.5567497 ],\n",
       "          [0.5935004 , 0.66350037, 0.54850036],\n",
       "          [0.595     , 0.655     , 0.535     ]],\n",
       " \n",
       "         [[0.5947277 , 0.6597277 , 0.5602723 ],\n",
       "          [0.603833  , 0.663833  , 0.553833  ],\n",
       "          [0.611499  , 0.676499  , 0.546499  ],\n",
       "          ...,\n",
       "          [0.5979993 , 0.67799926, 0.54799926],\n",
       "          [0.5830334 , 0.66303337, 0.5292004 ],\n",
       "          [0.58472764, 0.65472764, 0.52972764]]],\n",
       " \n",
       " \n",
       "        [[[0.6141056 , 0.6141056 , 0.57410556],\n",
       "          [0.62      , 0.62      , 0.58      ],\n",
       "          [0.6146667 , 0.60966665, 0.58466667],\n",
       "          ...,\n",
       "          [0.617222  , 0.617222  , 0.617222  ],\n",
       "          [0.61965007, 0.6096501 , 0.6146501 ],\n",
       "          [0.615     , 0.615     , 0.625     ]],\n",
       " \n",
       "         [[0.625     , 0.605     , 0.59      ],\n",
       "          [0.61395   , 0.61895   , 0.58895   ],\n",
       "          [0.61625   , 0.61125   , 0.58625   ],\n",
       "          ...,\n",
       "          [0.6287501 , 0.6237501 , 0.6037501 ],\n",
       "          [0.62850034, 0.62350035, 0.60350037],\n",
       "          [0.62      , 0.62      , 0.62      ]],\n",
       " \n",
       "         [[0.62233335, 0.615     , 0.59      ],\n",
       "          [0.61083335, 0.62083334, 0.5958333 ],\n",
       "          [0.62      , 0.615     , 0.605     ],\n",
       "          ...,\n",
       "          [0.63916665, 0.63416666, 0.62416667],\n",
       "          [0.63700074, 0.64200073, 0.61700076],\n",
       "          [0.633833  , 0.628833  , 0.618833  ]],\n",
       " \n",
       "         ...,\n",
       " \n",
       "         [[0.80597216, 0.80097216, 0.7909721 ],\n",
       "          [0.8047499 , 0.7997499 , 0.7897499 ],\n",
       "          [0.79416627, 0.7891663 , 0.76916623],\n",
       "          ...,\n",
       "          [0.7806947 , 0.7756947 , 0.75569475],\n",
       "          [0.7741663 , 0.76916623, 0.74916625],\n",
       "          [0.76083374, 0.76083374, 0.75849974]],\n",
       " \n",
       "         [[0.7888333 , 0.79      , 0.7765    ],\n",
       "          [0.78254974, 0.78254974, 0.77254975],\n",
       "          [0.7828341 , 0.7875841 , 0.763334  ],\n",
       "          ...,\n",
       "          [0.7581671 , 0.7581671 , 0.7481671 ],\n",
       "          [0.7708996 , 0.7708996 , 0.7708996 ],\n",
       "          [0.7685004 , 0.7711664 , 0.79233336]],\n",
       " \n",
       "         [[0.77470994, 0.77854294, 0.7570439 ],\n",
       "          [0.78      , 0.785     , 0.7588501 ],\n",
       "          [0.77980554, 0.78247154, 0.75863856],\n",
       "          ...,\n",
       "          [0.7486384 , 0.7586384 , 0.7459724 ],\n",
       "          [0.7611664 , 0.7688324 , 0.7649994 ],\n",
       "          [0.758833  , 0.7632108 , 0.7706044 ]]]], dtype=float32),\n",
       " (array([[3],\n",
       "         [3],\n",
       "         [3],\n",
       "         [1],\n",
       "         [2],\n",
       "         [1],\n",
       "         [1],\n",
       "         [3]], dtype=uint8),\n",
       "  array([[[0.2274 , 0.1769 , 0.7646 , 0.8086 ]],\n",
       "  \n",
       "         [[0.2323 , 0.281  , 0.76   , 0.745  ]],\n",
       "  \n",
       "         [[0.2208 , 0.1444 , 0.828  , 0.758  ]],\n",
       "  \n",
       "         [[0.348  , 0.3137 , 0.711  , 0.678  ]],\n",
       "  \n",
       "         [[0.3787 , 0.2355 , 0.732  , 0.7905 ]],\n",
       "  \n",
       "         [[0.268  , 0.1948 , 0.7305 , 0.704  ]],\n",
       "  \n",
       "         [[0.1558 , 0.11346, 0.844  , 0.864  ]],\n",
       "  \n",
       "         [[0.1997 , 0.2274 , 0.787  , 0.74   ]]], dtype=float16)))"
      ]
     },
     "execution_count": 88,
     "metadata": {},
     "output_type": "execute_result"
    }
   ],
   "source": [
    "train.as_numpy_iterator().next()"
   ]
  },
  {
   "cell_type": "markdown",
   "id": "64bdd4d3",
   "metadata": {},
   "source": [
    "# 2. Preparació de la intel·ligència artificial"
   ]
  },
  {
   "cell_type": "markdown",
   "id": "254f476e",
   "metadata": {},
   "source": [
    "### 2.1 Descarregar i carregar el model VGG16"
   ]
  },
  {
   "cell_type": "code",
   "execution_count": 28,
   "id": "d709c624",
   "metadata": {},
   "outputs": [],
   "source": [
    "import tensorflow.keras.models\n",
    "import tensorflow.keras.layers\n",
    "import tensorflow.keras.applications"
   ]
  },
  {
   "cell_type": "code",
   "execution_count": 29,
   "id": "a87f38e7",
   "metadata": {},
   "outputs": [],
   "source": [
    "from tensorflow.keras.models import Model\n",
    "from tensorflow.keras.layers import Input, Conv2D, Dense, GlobalMaxPooling2D\n",
    "from tensorflow.keras.applications import VGG16"
   ]
  },
  {
   "cell_type": "code",
   "execution_count": 30,
   "id": "cd1cd114",
   "metadata": {},
   "outputs": [],
   "source": [
    "vgg = VGG16(include_top=False) \n",
    "#Marca que les ultimes capes de la xarxa no les utilitzarem perquè afegirem les nostres pròpies"
   ]
  },
  {
   "cell_type": "code",
   "execution_count": 91,
   "id": "a029f809",
   "metadata": {},
   "outputs": [
    {
     "name": "stdout",
     "output_type": "stream",
     "text": [
      "Model: \"vgg16\"\n",
      "_________________________________________________________________\n",
      " Layer (type)                Output Shape              Param #   \n",
      "=================================================================\n",
      " input_1 (InputLayer)        [(None, None, None, 3)]   0         \n",
      "                                                                 \n",
      " block1_conv1 (Conv2D)       (None, None, None, 64)    1792      \n",
      "                                                                 \n",
      " block1_conv2 (Conv2D)       (None, None, None, 64)    36928     \n",
      "                                                                 \n",
      " block1_pool (MaxPooling2D)  (None, None, None, 64)    0         \n",
      "                                                                 \n",
      " block2_conv1 (Conv2D)       (None, None, None, 128)   73856     \n",
      "                                                                 \n",
      " block2_conv2 (Conv2D)       (None, None, None, 128)   147584    \n",
      "                                                                 \n",
      " block2_pool (MaxPooling2D)  (None, None, None, 128)   0         \n",
      "                                                                 \n",
      " block3_conv1 (Conv2D)       (None, None, None, 256)   295168    \n",
      "                                                                 \n",
      " block3_conv2 (Conv2D)       (None, None, None, 256)   590080    \n",
      "                                                                 \n",
      " block3_conv3 (Conv2D)       (None, None, None, 256)   590080    \n",
      "                                                                 \n",
      " block3_pool (MaxPooling2D)  (None, None, None, 256)   0         \n",
      "                                                                 \n",
      " block4_conv1 (Conv2D)       (None, None, None, 512)   1180160   \n",
      "                                                                 \n",
      " block4_conv2 (Conv2D)       (None, None, None, 512)   2359808   \n",
      "                                                                 \n",
      " block4_conv3 (Conv2D)       (None, None, None, 512)   2359808   \n",
      "                                                                 \n",
      " block4_pool (MaxPooling2D)  (None, None, None, 512)   0         \n",
      "                                                                 \n",
      " block5_conv1 (Conv2D)       (None, None, None, 512)   2359808   \n",
      "                                                                 \n",
      " block5_conv2 (Conv2D)       (None, None, None, 512)   2359808   \n",
      "                                                                 \n",
      " block5_conv3 (Conv2D)       (None, None, None, 512)   2359808   \n",
      "                                                                 \n",
      " block5_pool (MaxPooling2D)  (None, None, None, 512)   0         \n",
      "                                                                 \n",
      "=================================================================\n",
      "Total params: 14714688 (56.13 MB)\n",
      "Trainable params: 14714688 (56.13 MB)\n",
      "Non-trainable params: 0 (0.00 Byte)\n",
      "_________________________________________________________________\n"
     ]
    }
   ],
   "source": [
    "vgg.summary()"
   ]
  },
  {
   "cell_type": "code",
   "execution_count": 93,
   "id": "26209fc9",
   "metadata": {},
   "outputs": [],
   "source": [
    "\n",
    "'''\n",
    "La funció crea i retorna un model de xarxa neuronal convolucional per a la detecció dels objectes. \n",
    "El model té dues parts: una per a determinar si una imatge conté algun objecte i una altra per a localitzar l'obkecte (poma, pera o mandarina) a l'imatge. \n",
    "Al utilitzar VGG16, com que esta pre-entrenada, les característiques del input\n",
    "i les classifica en dues branques que son les dues parts mencionades abans de manera automàtica. \n",
    "'''\n",
    "def build_model(): \n",
    "    input_layer = Input(shape=(120,120,3))\n",
    "    \n",
    "    vgg = VGG16(include_top=False)(input_layer)\n",
    "    #Model de classificació\n",
    "    f1 = GlobalMaxPooling2D()(vgg)\n",
    "    class1 = Dense(2048, activation='relu')(f1) #relu == funció que determina la classe; \n",
    "    class2 = Dense(1, activation='sigmoid')(class1) # sigmoid == funció que determina la presició de la classe\n",
    "\n",
    "    # sigmoid = f(x) = 1/(1+e^-x)\n",
    "    \n",
    "    #Model de localització de coordenades\n",
    "    f2 = GlobalMaxPooling2D()(vgg)\n",
    "    regress1 = Dense(2048, activation='relu')(f2)\n",
    "    regress2 = Dense(4, activation='sigmoid')(regress1)\n",
    "    \n",
    "    detector = Model(inputs=input_layer, outputs=[class2, regress2])\n",
    "    return detector"
   ]
  },
  {
   "cell_type": "code",
   "execution_count": 94,
   "id": "d47d7819",
   "metadata": {},
   "outputs": [],
   "source": [
    "detector = build_model()"
   ]
  },
  {
   "cell_type": "markdown",
   "id": "6e82e086",
   "metadata": {},
   "source": [
    "### 2.2 Funcions de pèrdua i optimitzadors\n",
    "Els optimitzadors són algorismes que s’utilitzen per ajustar els pesos d’una xarxa neuronal durant l’entrenament. Els optimitzadors són responsables de minimitzar la funció de pèrdua de la xarxa neuronal."
   ]
  },
  {
   "cell_type": "code",
   "execution_count": 95,
   "id": "4a95066a",
   "metadata": {},
   "outputs": [
    {
     "data": {
      "text/plain": [
       "\"\\nEn el context de les xarxes neuronals, un optimitzador és un algorisme\\nque ajuda a ajustar els paràmetres de la xarxa per aconseguir una millor precisió.\\nL'optimitzador Adam és un exemple d'això i ajuda a l'optimitzador a convergir més ràpidament\\ni amb més precisió.\\n\""
      ]
     },
     "execution_count": 95,
     "metadata": {},
     "output_type": "execute_result"
    }
   ],
   "source": [
    "opt = tf.keras.optimizers.Adam(learning_rate=0.0001) #li introduïm el decay que hem calculat a l'optimitzador\n",
    "\n",
    "'''\n",
    "En el context de les xarxes neuronals, un optimitzador és un algorisme\n",
    "que ajuda a ajustar els paràmetres de la xarxa per aconseguir una millor precisió.\n",
    "L'optimitzador Adam és un exemple d'això i ajuda a l'optimitzador a convergir més ràpidament\n",
    "i amb més precisió.\n",
    "'''"
   ]
  },
  {
   "cell_type": "markdown",
   "id": "08bb0627",
   "metadata": {},
   "source": [
    "### Creació de 'Localitzation Loss' i 'Classification Loss'"
   ]
  },
  {
   "cell_type": "markdown",
   "id": "400ff5f5",
   "metadata": {},
   "source": [
    "La funció té dos components: la pèrdua de localització i la pèrdua de classificació.\n",
    "La pèrdua de localització mesura la diferència entre les coordenades dels quadres delimitadors \n",
    "predits i les coordenades dels quadres delimitadors reals. La pèrdua de classificació mesura la\n",
    "diferència entre les probabilitats de classe predites i les probabilitats de classe reals. \n",
    "En aquesta funció, només es calcula la pèrdua de localització.\n",
    "\n",
    "La funció té com a entrada dos tensors: y_true i yhat. \n",
    "y_true conté les coordenades dels quadres delimitadors reals i\n",
    "les probabilitats de classe reals per a cada objecte en la imatge d’entrada.\n",
    "yhat conté les coordenades dels quadres delimitadors predits i les\n",
    "probabilitats de classe predites per a cada objecte en la imatge d’entrada.\n",
    "\n",
    "La funció calcula la pèrdua de localització sumant el quadrat de la diferència\n",
    "entre les coordenades dels quadres delimitadors reals i les coordenades dels quadres\n",
    "delimitadors predits. A continuació, calcula la diferència entre l’amplada i l’alçada\n",
    "dels quadres delimitadors reals i els quadres delimitadors predits i suma els quadrats\n",
    "d’aquestes diferències. Finalment, retorna la suma de les dues pèrdues."
   ]
  },
  {
   "cell_type": "code",
   "execution_count": 96,
   "id": "a0159efe",
   "metadata": {},
   "outputs": [],
   "source": [
    "def localization_loss(y_true, yhat):#primer valor: coordenades reals, segon valor: coordenades previstes     \n",
    "    delta_coord = tf.reduce_sum(tf.square(y_true[:,:2] - yhat[:,:2])) #diferència dels dos primers valors de cada fila de la matriu\n",
    "                  \n",
    "    h_true = y_true[:,3] - y_true[:,1] #quarta columna d'una matriu - segona columna\n",
    "    w_true = y_true[:,2] - y_true[:,0] #tercera columna - primera\n",
    "\n",
    "    h_pred = yhat[:,3] - yhat[:,1] \n",
    "    w_pred = yhat[:,2] - yhat[:,0] \n",
    "    '''\n",
    "    delta_size = suma dels quadrats de les diferències entre les dimensions originals \n",
    "    i les dimensions reconstruïdes de l'imatge.\n",
    "    '''\n",
    "    delta_size = tf.reduce_sum(tf.square(w_true - w_pred) + tf.square(h_true-h_pred))\n",
    "    return delta_coord + delta_size"
   ]
  },
  {
   "cell_type": "code",
   "execution_count": 97,
   "id": "72140c33",
   "metadata": {},
   "outputs": [],
   "source": [
    "classloss = tf.keras.losses.BinaryCrossentropy() #model que fa una classificació binaria \n",
    "regressloss = localization_loss #model que acabem de crear"
   ]
  },
  {
   "cell_type": "markdown",
   "id": "130bdab9",
   "metadata": {},
   "source": [
    "# 3. Entrenament de la intel·ligència artificial"
   ]
  },
  {
   "cell_type": "markdown",
   "id": "59fe1595",
   "metadata": {},
   "source": [
    "### 3.1 Creació del propi model "
   ]
  },
  {
   "cell_type": "code",
   "execution_count": 99,
   "id": "ae1b2c52",
   "metadata": {},
   "outputs": [],
   "source": [
    "class Detector(Model): \n",
    "    def __init__(self, fruita,  **kwargs): \n",
    "        super().__init__(**kwargs)\n",
    "        self.model = fruita\n",
    "\n",
    "    def compile(self, opt, classloss, localizationloss, **kwargs):\n",
    "        super().compile(**kwargs)\n",
    "        self.closs = classloss\n",
    "        self.lloss = localizationloss\n",
    "        self.opt = opt\n",
    "    '''\n",
    "    La funció train_step executa cada pas de l'entrenament del model. El model rep un lot de dades\n",
    "    del entrenament (data que hem escollit per a 'train'),i calcula la pèrdua total (total_loss) que \n",
    "    consisteix en la suma de la pèrdua de localització (batch_localizationloss) i la meitat de la\n",
    "    pèrdua de classificació (batch_classloss). Finalment, calcula la perdua total i actualitza els\n",
    "    pesos.\n",
    "    '''\n",
    "    def train_step(self, batch, **kwargs): \n",
    "        \n",
    "        X, y = batch\n",
    "        \n",
    "        with tf.GradientTape() as tape: \n",
    "            classes, coords = self.model(X, training=True)\n",
    "            \n",
    "            batch_classloss = self.closs(y[0], classes)\n",
    "            batch_localizationloss = self.lloss(tf.cast(y[1], tf.float32), coords)\n",
    "            \n",
    "            total_loss = batch_localizationloss+0.5*batch_classloss \n",
    "            \n",
    "            grad = tape.gradient(total_loss, self.model.trainable_variables)\n",
    "            #el gradient representa la direcció i la magnitud en la qual s'ha\n",
    "            #d'ajustar cada paràmetre del model per reduir la pèrdua (loss) durant l'entrenament\n",
    "        \n",
    "        opt.apply_gradients(zip(grad, self.model.trainable_variables))\n",
    "        \n",
    "        return {\"total_loss\":total_loss, \"class_loss\":batch_classloss, \"regress_loss\":batch_localizationloss}\n",
    "    '''\n",
    "    Aquesta funció 'test_step' agafa la data de 'train' per avaluar-la i torna a calcular la pèrdua\n",
    "    total, la pèrdua de classificació i la pèrdua de localització. Això es fa per avaluar el \n",
    "    rendiment del model en dades noves.\n",
    "    '''\n",
    "    def test_step(self, batch, **kwargs): \n",
    "        X, y = batch\n",
    "        \n",
    "        classes, coords = self.model(X, training=False)\n",
    "        \n",
    "        batch_classloss = self.closs(y[0], classes)\n",
    "        batch_localizationloss = self.lloss(tf.cast(y[1], tf.float32), coords)\n",
    "        total_loss = batch_localizationloss+0.5*batch_classloss\n",
    "        \n",
    "        return {\"total_loss\":total_loss, \"class_loss\":batch_classloss, \"regress_loss\":batch_localizationloss}\n",
    "        \n",
    "    def call(self, X, **kwargs): \n",
    "        return self.model(X, **kwargs)"
   ]
  },
  {
   "cell_type": "code",
   "execution_count": 100,
   "id": "2f405338",
   "metadata": {},
   "outputs": [],
   "source": [
    "model = Detector(detector)"
   ]
  },
  {
   "cell_type": "markdown",
   "id": "a834cc1d",
   "metadata": {},
   "source": [
    "El 'mode.compile' configura el model per utilitzar l'optimitzador especificat per minimitzar la combinació de les funcions de pèrdua de classificació i regressió durant el procés d'entrenament"
   ]
  },
  {
   "cell_type": "code",
   "execution_count": 101,
   "id": "5d1e7058",
   "metadata": {},
   "outputs": [],
   "source": [
    "model.compile(opt, classloss, regressloss)"
   ]
  },
  {
   "cell_type": "markdown",
   "id": "7e3b8c9f",
   "metadata": {},
   "source": [
    "### 3.2 Entrenament\n"
   ]
  },
  {
   "cell_type": "code",
   "execution_count": 102,
   "id": "6d11d3ba",
   "metadata": {},
   "outputs": [],
   "source": [
    "logdir='logs' #Crea un directori on es guardarà la informació del Tensorboard "
   ]
  },
  {
   "cell_type": "markdown",
   "id": "0c141568",
   "metadata": {},
   "source": [
    "TensorBoard és una eina de visualització interactiva que s'utilitza en l'entrenament de models de xarxes neuronals per poder entendre millor el comportament del model durant l'entrenament i ajustar els paràmetres de manera més efectiva. \n"
   ]
  },
  {
   "cell_type": "code",
   "execution_count": 103,
   "id": "8616a537",
   "metadata": {},
   "outputs": [],
   "source": [
    "tensorboard_callback = tf.keras.callbacks.TensorBoard(log_dir=logdir) #crea un callback per registrar la informació del model "
   ]
  },
  {
   "cell_type": "code",
   "execution_count": 104,
   "id": "e2666bd4",
   "metadata": {},
   "outputs": [
    {
     "name": "stdout",
     "output_type": "stream",
     "text": [
      "Epoch 1/15\n"
     ]
    },
    {
     "ename": "InvalidArgumentError",
     "evalue": "Graph execution error:\n\nDetected at node 'strided_slice_4' defined at (most recent call last):\n    File \"<frozen runpy>\", line 198, in _run_module_as_main\n    File \"<frozen runpy>\", line 88, in _run_code\n    File \"d:\\TR\\env\\Lib\\site-packages\\ipykernel_launcher.py\", line 17, in <module>\n      app.launch_new_instance()\n    File \"d:\\TR\\env\\Lib\\site-packages\\traitlets\\config\\application.py\", line 1043, in launch_instance\n      app.start()\n    File \"d:\\TR\\env\\Lib\\site-packages\\ipykernel\\kernelapp.py\", line 725, in start\n      self.io_loop.start()\n    File \"d:\\TR\\env\\Lib\\site-packages\\tornado\\platform\\asyncio.py\", line 195, in start\n      self.asyncio_loop.run_forever()\n    File \"C:\\Users\\Gússem\\AppData\\Local\\Programs\\Python\\Python311\\Lib\\asyncio\\base_events.py\", line 607, in run_forever\n      self._run_once()\n    File \"C:\\Users\\Gússem\\AppData\\Local\\Programs\\Python\\Python311\\Lib\\asyncio\\base_events.py\", line 1922, in _run_once\n      handle._run()\n    File \"C:\\Users\\Gússem\\AppData\\Local\\Programs\\Python\\Python311\\Lib\\asyncio\\events.py\", line 80, in _run\n      self._context.run(self._callback, *self._args)\n    File \"d:\\TR\\env\\Lib\\site-packages\\ipykernel\\kernelbase.py\", line 513, in dispatch_queue\n      await self.process_one()\n    File \"d:\\TR\\env\\Lib\\site-packages\\ipykernel\\kernelbase.py\", line 502, in process_one\n      await dispatch(*args)\n    File \"d:\\TR\\env\\Lib\\site-packages\\ipykernel\\kernelbase.py\", line 409, in dispatch_shell\n      await result\n    File \"d:\\TR\\env\\Lib\\site-packages\\ipykernel\\kernelbase.py\", line 729, in execute_request\n      reply_content = await reply_content\n    File \"d:\\TR\\env\\Lib\\site-packages\\ipykernel\\ipkernel.py\", line 422, in do_execute\n      res = shell.run_cell(\n    File \"d:\\TR\\env\\Lib\\site-packages\\ipykernel\\zmqshell.py\", line 540, in run_cell\n      return super().run_cell(*args, **kwargs)\n    File \"d:\\TR\\env\\Lib\\site-packages\\IPython\\core\\interactiveshell.py\", line 3009, in run_cell\n      result = self._run_cell(\n    File \"d:\\TR\\env\\Lib\\site-packages\\IPython\\core\\interactiveshell.py\", line 3064, in _run_cell\n      result = runner(coro)\n    File \"d:\\TR\\env\\Lib\\site-packages\\IPython\\core\\async_helpers.py\", line 129, in _pseudo_sync_runner\n      coro.send(None)\n    File \"d:\\TR\\env\\Lib\\site-packages\\IPython\\core\\interactiveshell.py\", line 3269, in run_cell_async\n      has_raised = await self.run_ast_nodes(code_ast.body, cell_name,\n    File \"d:\\TR\\env\\Lib\\site-packages\\IPython\\core\\interactiveshell.py\", line 3448, in run_ast_nodes\n      if await self.run_code(code, result, async_=asy):\n    File \"d:\\TR\\env\\Lib\\site-packages\\IPython\\core\\interactiveshell.py\", line 3508, in run_code\n      exec(code_obj, self.user_global_ns, self.user_ns)\n    File \"C:\\Users\\Gússem\\AppData\\Local\\Temp\\ipykernel_21664\\2705345196.py\", line 1, in <module>\n      hist = model.fit(train, epochs=15, validation_data=val, callbacks=[tensorboard_callback])\n    File \"d:\\TR\\env\\Lib\\site-packages\\keras\\src\\utils\\traceback_utils.py\", line 65, in error_handler\n      return fn(*args, **kwargs)\n    File \"d:\\TR\\env\\Lib\\site-packages\\keras\\src\\engine\\training.py\", line 1742, in fit\n      tmp_logs = self.train_function(iterator)\n    File \"d:\\TR\\env\\Lib\\site-packages\\keras\\src\\engine\\training.py\", line 1338, in train_function\n      return step_function(self, iterator)\n    File \"d:\\TR\\env\\Lib\\site-packages\\keras\\src\\engine\\training.py\", line 1322, in step_function\n      outputs = model.distribute_strategy.run(run_step, args=(data,))\n    File \"d:\\TR\\env\\Lib\\site-packages\\keras\\src\\engine\\training.py\", line 1303, in run_step\n      outputs = model.train_step(data)\n    File \"C:\\Users\\Gússem\\AppData\\Local\\Temp\\ipykernel_21664\\3914813102.py\", line 26, in train_step\n      batch_localizationloss = self.lloss(tf.cast(y[1], tf.float32), coords)\n    File \"C:\\Users\\Gússem\\AppData\\Local\\Temp\\ipykernel_21664\\3151547633.py\", line 5, in localization_loss\n      w_true = y_true[:,2] - y_true[:,0] #tercera columna - primera\nNode: 'strided_slice_4'\nslice index 2 of dimension 1 out of bounds.\n\t [[{{node strided_slice_4}}]] [Op:__inference_train_function_106682]",
     "output_type": "error",
     "traceback": [
      "\u001b[1;31m---------------------------------------------------------------------------\u001b[0m",
      "\u001b[1;31mInvalidArgumentError\u001b[0m                      Traceback (most recent call last)",
      "Cell \u001b[1;32mIn[104], line 1\u001b[0m\n\u001b[1;32m----> 1\u001b[0m hist \u001b[39m=\u001b[39m model\u001b[39m.\u001b[39;49mfit(train, epochs\u001b[39m=\u001b[39;49m\u001b[39m15\u001b[39;49m, validation_data\u001b[39m=\u001b[39;49mval, callbacks\u001b[39m=\u001b[39;49m[tensorboard_callback])\n",
      "File \u001b[1;32md:\\TR\\env\\Lib\\site-packages\\keras\\src\\utils\\traceback_utils.py:70\u001b[0m, in \u001b[0;36mfilter_traceback.<locals>.error_handler\u001b[1;34m(*args, **kwargs)\u001b[0m\n\u001b[0;32m     67\u001b[0m     filtered_tb \u001b[39m=\u001b[39m _process_traceback_frames(e\u001b[39m.\u001b[39m__traceback__)\n\u001b[0;32m     68\u001b[0m     \u001b[39m# To get the full stack trace, call:\u001b[39;00m\n\u001b[0;32m     69\u001b[0m     \u001b[39m# `tf.debugging.disable_traceback_filtering()`\u001b[39;00m\n\u001b[1;32m---> 70\u001b[0m     \u001b[39mraise\u001b[39;00m e\u001b[39m.\u001b[39mwith_traceback(filtered_tb) \u001b[39mfrom\u001b[39;00m \u001b[39mNone\u001b[39;00m\n\u001b[0;32m     71\u001b[0m \u001b[39mfinally\u001b[39;00m:\n\u001b[0;32m     72\u001b[0m     \u001b[39mdel\u001b[39;00m filtered_tb\n",
      "File \u001b[1;32md:\\TR\\env\\Lib\\site-packages\\tensorflow\\python\\eager\\execute.py:53\u001b[0m, in \u001b[0;36mquick_execute\u001b[1;34m(op_name, num_outputs, inputs, attrs, ctx, name)\u001b[0m\n\u001b[0;32m     51\u001b[0m \u001b[39mtry\u001b[39;00m:\n\u001b[0;32m     52\u001b[0m   ctx\u001b[39m.\u001b[39mensure_initialized()\n\u001b[1;32m---> 53\u001b[0m   tensors \u001b[39m=\u001b[39m pywrap_tfe\u001b[39m.\u001b[39mTFE_Py_Execute(ctx\u001b[39m.\u001b[39m_handle, device_name, op_name,\n\u001b[0;32m     54\u001b[0m                                       inputs, attrs, num_outputs)\n\u001b[0;32m     55\u001b[0m \u001b[39mexcept\u001b[39;00m core\u001b[39m.\u001b[39m_NotOkStatusException \u001b[39mas\u001b[39;00m e:\n\u001b[0;32m     56\u001b[0m   \u001b[39mif\u001b[39;00m name \u001b[39mis\u001b[39;00m \u001b[39mnot\u001b[39;00m \u001b[39mNone\u001b[39;00m:\n",
      "\u001b[1;31mInvalidArgumentError\u001b[0m: Graph execution error:\n\nDetected at node 'strided_slice_4' defined at (most recent call last):\n    File \"<frozen runpy>\", line 198, in _run_module_as_main\n    File \"<frozen runpy>\", line 88, in _run_code\n    File \"d:\\TR\\env\\Lib\\site-packages\\ipykernel_launcher.py\", line 17, in <module>\n      app.launch_new_instance()\n    File \"d:\\TR\\env\\Lib\\site-packages\\traitlets\\config\\application.py\", line 1043, in launch_instance\n      app.start()\n    File \"d:\\TR\\env\\Lib\\site-packages\\ipykernel\\kernelapp.py\", line 725, in start\n      self.io_loop.start()\n    File \"d:\\TR\\env\\Lib\\site-packages\\tornado\\platform\\asyncio.py\", line 195, in start\n      self.asyncio_loop.run_forever()\n    File \"C:\\Users\\Gússem\\AppData\\Local\\Programs\\Python\\Python311\\Lib\\asyncio\\base_events.py\", line 607, in run_forever\n      self._run_once()\n    File \"C:\\Users\\Gússem\\AppData\\Local\\Programs\\Python\\Python311\\Lib\\asyncio\\base_events.py\", line 1922, in _run_once\n      handle._run()\n    File \"C:\\Users\\Gússem\\AppData\\Local\\Programs\\Python\\Python311\\Lib\\asyncio\\events.py\", line 80, in _run\n      self._context.run(self._callback, *self._args)\n    File \"d:\\TR\\env\\Lib\\site-packages\\ipykernel\\kernelbase.py\", line 513, in dispatch_queue\n      await self.process_one()\n    File \"d:\\TR\\env\\Lib\\site-packages\\ipykernel\\kernelbase.py\", line 502, in process_one\n      await dispatch(*args)\n    File \"d:\\TR\\env\\Lib\\site-packages\\ipykernel\\kernelbase.py\", line 409, in dispatch_shell\n      await result\n    File \"d:\\TR\\env\\Lib\\site-packages\\ipykernel\\kernelbase.py\", line 729, in execute_request\n      reply_content = await reply_content\n    File \"d:\\TR\\env\\Lib\\site-packages\\ipykernel\\ipkernel.py\", line 422, in do_execute\n      res = shell.run_cell(\n    File \"d:\\TR\\env\\Lib\\site-packages\\ipykernel\\zmqshell.py\", line 540, in run_cell\n      return super().run_cell(*args, **kwargs)\n    File \"d:\\TR\\env\\Lib\\site-packages\\IPython\\core\\interactiveshell.py\", line 3009, in run_cell\n      result = self._run_cell(\n    File \"d:\\TR\\env\\Lib\\site-packages\\IPython\\core\\interactiveshell.py\", line 3064, in _run_cell\n      result = runner(coro)\n    File \"d:\\TR\\env\\Lib\\site-packages\\IPython\\core\\async_helpers.py\", line 129, in _pseudo_sync_runner\n      coro.send(None)\n    File \"d:\\TR\\env\\Lib\\site-packages\\IPython\\core\\interactiveshell.py\", line 3269, in run_cell_async\n      has_raised = await self.run_ast_nodes(code_ast.body, cell_name,\n    File \"d:\\TR\\env\\Lib\\site-packages\\IPython\\core\\interactiveshell.py\", line 3448, in run_ast_nodes\n      if await self.run_code(code, result, async_=asy):\n    File \"d:\\TR\\env\\Lib\\site-packages\\IPython\\core\\interactiveshell.py\", line 3508, in run_code\n      exec(code_obj, self.user_global_ns, self.user_ns)\n    File \"C:\\Users\\Gússem\\AppData\\Local\\Temp\\ipykernel_21664\\2705345196.py\", line 1, in <module>\n      hist = model.fit(train, epochs=15, validation_data=val, callbacks=[tensorboard_callback])\n    File \"d:\\TR\\env\\Lib\\site-packages\\keras\\src\\utils\\traceback_utils.py\", line 65, in error_handler\n      return fn(*args, **kwargs)\n    File \"d:\\TR\\env\\Lib\\site-packages\\keras\\src\\engine\\training.py\", line 1742, in fit\n      tmp_logs = self.train_function(iterator)\n    File \"d:\\TR\\env\\Lib\\site-packages\\keras\\src\\engine\\training.py\", line 1338, in train_function\n      return step_function(self, iterator)\n    File \"d:\\TR\\env\\Lib\\site-packages\\keras\\src\\engine\\training.py\", line 1322, in step_function\n      outputs = model.distribute_strategy.run(run_step, args=(data,))\n    File \"d:\\TR\\env\\Lib\\site-packages\\keras\\src\\engine\\training.py\", line 1303, in run_step\n      outputs = model.train_step(data)\n    File \"C:\\Users\\Gússem\\AppData\\Local\\Temp\\ipykernel_21664\\3914813102.py\", line 26, in train_step\n      batch_localizationloss = self.lloss(tf.cast(y[1], tf.float32), coords)\n    File \"C:\\Users\\Gússem\\AppData\\Local\\Temp\\ipykernel_21664\\3151547633.py\", line 5, in localization_loss\n      w_true = y_true[:,2] - y_true[:,0] #tercera columna - primera\nNode: 'strided_slice_4'\nslice index 2 of dimension 1 out of bounds.\n\t [[{{node strided_slice_4}}]] [Op:__inference_train_function_106682]"
     ]
    }
   ],
   "source": [
    "hist = model.fit(train, epochs=15, validation_data=val, callbacks=[tensorboard_callback])"
   ]
  },
  {
   "cell_type": "markdown",
   "id": "b5d0ac73",
   "metadata": {},
   "source": [
    "Aquesta última línia es passa tota la informació de train (osigui crida a tota la funció d'entrenament) per 10 iteracions (epochs) i registra les dades d'entrenament i validació durant l'entrenament a partir del callback de TensorBoard, llavors \"hist\" conté tota la info sobre les losses (pèrdues) i l'exactitud del model durant l'entrenament"
   ]
  },
  {
   "cell_type": "markdown",
   "id": "e7f34d80",
   "metadata": {},
   "source": [
    "### 3.3 Anàlisi del rendiment de l'entrenament"
   ]
  },
  {
   "cell_type": "code",
   "execution_count": null,
   "id": "e20d354a",
   "metadata": {},
   "outputs": [],
   "source": [
    "hist.history #per veure totes les pèrdues (losses)"
   ]
  },
  {
   "cell_type": "markdown",
   "id": "b8bf7e81",
   "metadata": {},
   "source": [
    "El següent fragment mostra totes les losses de manera gràfica, en teoria tant les pèrdues i les pèrdues validades com les de classificació de localització i les totals haurien de ser valors molt semblants per a ser més exactes, en cas que no ho son deu haver-hi algun problema amb alguna anotation i no l'haurà processat bé (tampoc és un problema greu)"
   ]
  },
  {
   "cell_type": "code",
   "execution_count": null,
   "id": "4fb61c2a",
   "metadata": {},
   "outputs": [],
   "source": [
    "fig, ax = plt.subplots(ncols=3, figsize=(20,5))\n",
    "\n",
    "ax[0].plot(hist.history['total_loss'], color='teal', label='loss')\n",
    "ax[0].plot(hist.history['val_total_loss'], color='orange', label='val loss')\n",
    "ax[0].title.set_text('Loss')\n",
    "ax[0].legend()\n",
    "\n",
    "ax[1].plot(hist.history['class_loss'], color='teal', label='class loss')\n",
    "ax[1].plot(hist.history['val_class_loss'], color='orange', label='val class loss')\n",
    "ax[1].title.set_text('Classification Loss')\n",
    "ax[1].legend()\n",
    "\n",
    "ax[2].plot(hist.history['regress_loss'], color='teal', label='regress loss')\n",
    "ax[2].plot(hist.history['val_regress_loss'], color='orange', label='val regress loss')\n",
    "ax[2].title.set_text('Regression Loss')\n",
    "ax[2].legend()\n",
    "\n",
    "plt.show()"
   ]
  },
  {
   "cell_type": "markdown",
   "id": "5669ad25",
   "metadata": {},
   "source": [
    "### Provem i desem el model"
   ]
  },
  {
   "cell_type": "code",
   "execution_count": null,
   "id": "4561a424",
   "metadata": {},
   "outputs": [],
   "source": [
    "from tensorflow.keras.models import load_model"
   ]
  },
  {
   "cell_type": "code",
   "execution_count": null,
   "id": "96958bed",
   "metadata": {},
   "outputs": [],
   "source": [
    "Detector.save(\"detector_fruites.h5\") #el desem"
   ]
  },
  {
   "cell_type": "markdown",
   "id": "31c4c925",
   "metadata": {},
   "source": [
    "### El provem amb la webcam"
   ]
  },
  {
   "cell_type": "code",
   "execution_count": null,
   "id": "b4d2d1cb",
   "metadata": {},
   "outputs": [],
   "source": [
    "Detector = load_model('detector_fruites.h5')"
   ]
  },
  {
   "cell_type": "code",
   "execution_count": null,
   "id": "e7accfe8",
   "metadata": {},
   "outputs": [],
   "source": [
    "cap = cv2.VideoCapture(1)\n",
    "while cap.isOpened():\n",
    "    _ , frame = cap.read()\n",
    "    frame = frame[50:500, 50:500,:]\n",
    "    \n",
    "    rgb = cv2.cvtColor(frame, cv2.COLOR_BGR2RGB)\n",
    "    resized = tf.image.resize(rgb, (120,120))\n",
    "    \n",
    "    yhat = Detector.predict(np.expand_dims(resized/255,0))\n",
    "    sample_coords = yhat[1][0]\n",
    "    \n",
    "    if yhat[0] > 0.5: \n",
    "        # Controls the main rectangle\n",
    "        cv2.rectangle(frame, \n",
    "                      tuple(np.multiply(sample_coords[:2], [450,450]).astype(int)),\n",
    "                      tuple(np.multiply(sample_coords[2:], [450,450]).astype(int)), \n",
    "                            (255,0,0), 2)\n",
    "        # Controls the label rectangle\n",
    "        cv2.rectangle(frame, \n",
    "                      tuple(np.add(np.multiply(sample_coords[:2], [450,450]).astype(int), \n",
    "                                    [0,-30])),\n",
    "                      tuple(np.add(np.multiply(sample_coords[:2], [450,450]).astype(int),\n",
    "                                    [80,0])), \n",
    "                            (255,0,0), -1)\n",
    "        \n",
    "        if yhat[0] > 0.8 and yhat[0] < 1.2:\n",
    "        # Controls the text rendered\n",
    "            cv2.putText(frame, 'poma', tuple(np.add(np.multiply(sample_coords[:2], [450,450]).astype(int),\n",
    "                                                [0,-5])),\n",
    "                        cv2.FONT_HERSHEY_SIMPLEX, 1, (255,255,255), 2, cv2.LINE_AA)\n",
    "        elif yhat[0] > 1.8 and yhat[0] < 2.2:\n",
    "            cv2.putText(frame, 'pera', tuple(np.add(np.multiply(sample_coords[:2], [450,450]).astype(int),\n",
    "                                                [0,-5])),\n",
    "                        cv2.FONT_HERSHEY_SIMPLEX, 1, (255,255,255), 2, cv2.LINE_AA)\n",
    "        elif yhat[0] > 2.8 and yhat[0] < 3.2:\n",
    "                        cv2.putText(frame, 'mandarina', tuple(np.add(np.multiply(sample_coords[:2], [450,450]).astype(int),\n",
    "                                                [0,-5])),\n",
    "                        cv2.FONT_HERSHEY_SIMPLEX, 1, (255,255,255), 2, cv2.LINE_AA)\n",
    "        else:           \n",
    "                cv2.putText(frame, 'no ho tinc clar', tuple(np.add(np.multiply(sample_coords[:2], [450,450]).astype(int),\n",
    "                                                [0,-5])),\n",
    "                cv2.FONT_HERSHEY_SIMPLEX, 1, (255,255,255), 2, cv2.LINE_AA)\n",
    "        \n",
    "    cv2.imshow('EyeTrack', frame)\n",
    "    \n",
    "    if cv2.waitKey(1) & 0xFF == ord('q'):\n",
    "        break\n",
    "cap.release()\n",
    "cv2.destroyAllWindows()"
   ]
  }
 ],
 "metadata": {
  "kernelspec": {
   "display_name": "Python 3 (ipykernel)",
   "language": "python",
   "name": "python3"
  },
  "language_info": {
   "codemirror_mode": {
    "name": "ipython",
    "version": 3
   },
   "file_extension": ".py",
   "mimetype": "text/x-python",
   "name": "python",
   "nbconvert_exporter": "python",
   "pygments_lexer": "ipython3",
   "version": "3.11.5"
  }
 },
 "nbformat": 4,
 "nbformat_minor": 5
}

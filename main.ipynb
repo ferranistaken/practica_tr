{
 "cells": [
  {
   "attachments": {},
   "cell_type": "markdown",
   "id": "33e0455a",
   "metadata": {},
   "source": [
    "# 1. Recol·lecció i tractament de dades"
   ]
  },
  {
   "attachments": {},
   "cell_type": "markdown",
   "id": "aa979ccf",
   "metadata": {},
   "source": [
    " * 1.1 Executem la llibreria LabelMe, que manualment ens permetrà obtenir unes coordenades que marquin la àrea del objecte que volem detectar. Aquesta llibreria ens retornarà un arxiu .json amb els valors numèrics dels punts marcats. Amb aquests valors, la xarxa neuronal serà capaç d'entrenar-se. Haurem de crear una carpeta que anomenarem \"labels\" on hi aniran aquestes \"etiquetes\" en format .json"
   ]
  },
  {
   "cell_type": "code",
   "execution_count": null,
   "id": "aaed57d5",
   "metadata": {},
   "outputs": [],
   "source": [
    "!labelme #execució de la llibreria labelme"
   ]
  },
  {
   "attachments": {},
   "cell_type": "markdown",
   "id": "23d6376c",
   "metadata": {},
   "source": [
    "# 2. Limitació de la memòria GPU i introducció de les dades a la pipeline de TF"
   ]
  }
 ],
 "metadata": {
  "kernelspec": {
   "display_name": "Python 3 (ipykernel)",
   "language": "python",
   "name": "python3"
  },
  "language_info": {
   "codemirror_mode": {
    "name": "ipython",
    "version": 3
   },
   "file_extension": ".py",
   "mimetype": "text/x-python",
   "name": "python",
   "nbconvert_exporter": "python",
   "pygments_lexer": "ipython3",
   "version": "3.11.2"
  }
 },
 "nbformat": 4,
 "nbformat_minor": 5
}
